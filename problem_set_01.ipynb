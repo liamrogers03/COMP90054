{
 "cells": [
  {
   "cell_type": "markdown",
   "metadata": {
    "colab_type": "text",
    "id": "view-in-github"
   },
   "source": [
    "<a href=\"https://colab.research.google.com/github/liamrogers03/COMP90054/blob/main/problem_set_01.ipynb\" target=\"_parent\"><img src=\"https://colab.research.google.com/assets/colab-badge.svg\" alt=\"Open In Colab\"/></a>"
   ]
  },
  {
   "cell_type": "markdown",
   "metadata": {
    "id": "wtYhEJOLntKg"
   },
   "source": [
    "# COMP90054 AI Planning for Autonomy\n",
    "### Problem Set 01 - Blind Search\n",
    "\n",
    "\n"
   ]
  },
  {
   "cell_type": "markdown",
   "metadata": {
    "id": "gzM1qCxE1yDN"
   },
   "source": [
    "### Key concepts:\n",
    "- State-space model\n",
    "- Blind search algorithms: BFS, DFS and ID"
   ]
  },
  {
   "cell_type": "markdown",
   "metadata": {
    "id": "dg5pdTSv10rD"
   },
   "source": [
    "\n",
    "### Set up the environment:\n",
    "- Please run the following blocks of code to initialise the *environment*"
   ]
  },
  {
   "cell_type": "code",
   "execution_count": 1,
   "metadata": {
    "colab": {
     "base_uri": "https://localhost:8080/"
    },
    "id": "oaRPfefQPliF",
    "outputId": "1cabfc0c-8149-4172-bcab-28297f7da164"
   },
   "outputs": [
    {
     "name": "stdout",
     "output_type": "stream",
     "text": [
      "Requirement already satisfied: pydotplus in /usr/local/lib/python3.11/dist-packages (2.0.2)\n",
      "Requirement already satisfied: pyparsing>=2.0.1 in /usr/local/lib/python3.11/dist-packages (from pydotplus) (3.2.1)\n"
     ]
    }
   ],
   "source": [
    "!pip install pydotplus"
   ]
  },
  {
   "cell_type": "code",
   "execution_count": 2,
   "metadata": {
    "id": "mAX5ynV3OF2X"
   },
   "outputs": [],
   "source": [
    "import numpy as np\n",
    "import pydotplus\n",
    "from IPython.display import display, Image\n",
    "from ipywidgets import interact"
   ]
  },
  {
   "cell_type": "code",
   "execution_count": 3,
   "metadata": {
    "id": "BNTVpXp5Pe0v"
   },
   "outputs": [],
   "source": [
    "# Class of the problem\n",
    "\n",
    "class Problem():\n",
    "  initial_state = None\n",
    "  state_space = None\n",
    "  goal_states = None\n",
    "  actions = None\n",
    "  transition_function = None\n",
    "  costs = None\n",
    "\n",
    "  def __init__(self, initial_state, state_space, goal_states, actions, transition_function, costs):\n",
    "    self.initial_state = initial_state\n",
    "    self.state_space = state_space\n",
    "    self.goal_states = goal_states\n",
    "    self.actions = actions\n",
    "    self.transition_function = transition_function\n",
    "    self.costs = costs\n",
    "\n",
    "    self.current_state = self.initial_state\n",
    "\n",
    "    return\n",
    "\n",
    "# Helper function to visualize the problem (i.e. draw state transition graph)\n",
    "def generate_state_graph(problem):\n",
    "  state_graph={}\n",
    "  state_graph['nodes'] = {k:{'label':'\\\"{}\\n{}\\\"'.format(k,' ')} for k in sorted(list(problem.state_space))}\n",
    "  state_graph['nodes'][problem.initial_state]['color'] = 'green'\n",
    "  for goal in problem.goal_states:\n",
    "      state_graph['nodes'][goal]['shape'] = 'doublecircle'\n",
    "  state_graph['edge'] = {k:{'label':str(problem.costs[k])} for k in problem.costs.keys()}\n",
    "  return state_graph\n",
    "\n",
    "def render_graph(param):\n",
    "  s = ''\n",
    "  s += 'digraph G { \\n'\n",
    "\n",
    "  for edge,tdict in param['edge'].items():\n",
    "    tstr = edge[0] + '->' + edge[1] + ' '\n",
    "    if bool(tdict):\n",
    "      tstr += '['\n",
    "      for k,v in tdict.items():\n",
    "        tstr += '{}={},'.format(k,v)\n",
    "      tstr = tstr[:-1] + ']'\n",
    "    tstr += ';\\n'\n",
    "    s+=tstr\n",
    "\n",
    "  for node,tdict in param['nodes'].items():\n",
    "    tstr = node + ' '\n",
    "    if bool(tdict):\n",
    "      tstr += '['\n",
    "      for k,v in tdict.items():\n",
    "        tstr += '{}={},'.format(k,v)\n",
    "      tstr = tstr[:-1] + ']'\n",
    "    tstr += ';\\n'\n",
    "    s+=tstr\n",
    "\n",
    "  s += ' \\n}'\n",
    "\n",
    "  #print (s)\n",
    "  graph = pydotplus.graph_from_dot_data(s)\n",
    "  return graph.create_png()\n",
    "\n",
    "\n",
    "# Visulize the search process (not required)\n",
    "def visulize_search_process(nodes,problem):\n",
    "    progress = []\n",
    "\n",
    "    for i,(state,value,parent) in enumerate(nodes):\n",
    "        param = {}\n",
    "        param['nodes'] = {str(k):{'label':'\\\"n{}\\n{},{},{}\\\"'.format(k,state,cost,parent)} for k,(state,cost,parent) in enumerate(nodes[:i+1])}\n",
    "\n",
    "        # The newly generated node is red while all other nodes are green\n",
    "        for k in param['nodes']:\n",
    "            param['nodes'][k]['color'] = 'green'\n",
    "        param['nodes'][str(i)]['color'] = 'red'\n",
    "\n",
    "        # Black edges\n",
    "        param['edge'] = {(str(parent), str(k)): {'label': str(problem.costs[(nodes[parent][0], state)])} for k, (state, cost, parent) in enumerate(nodes[:i+1]) if not parent is None}\n",
    "        for edge in param['edge']:\n",
    "            param['edge'][edge]['color'] = 'black'\n",
    "\n",
    "        progress.append(param)\n",
    "\n",
    "    prog_imgs = [render_graph(param) for param in progress]\n",
    "    def show_img(idx):\n",
    "        return display(Image(prog_imgs[idx]))\n",
    "    interact(show_img,idx=(0,len(prog_imgs)-1,1))\n",
    "\n",
    "\n",
    "\n"
   ]
  },
  {
   "cell_type": "markdown",
   "metadata": {
    "id": "U8f4i2S328SJ"
   },
   "source": [
    "\n",
    "\n",
    "---\n",
    "\n",
    "\n",
    "### Example:\n"
   ]
  },
  {
   "cell_type": "markdown",
   "metadata": {
    "id": "3Lus_uhCByRd"
   },
   "source": [
    "#### State transition graph:\n",
    "\n",
    "![image.png](data:image/png;base64,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)\n"
   ]
  },
  {
   "cell_type": "markdown",
   "metadata": {
    "id": "CqyZC6ql7Njk"
   },
   "source": [
    "#### Code to auto generate state space model (you don't have to use it)"
   ]
  },
  {
   "cell_type": "code",
   "execution_count": 4,
   "metadata": {
    "colab": {
     "base_uri": "https://localhost:8080/"
    },
    "id": "45Gjrc3u6dU_",
    "outputId": "a54d0ab1-0f46-4525-ffd5-2b3a91014b3f"
   },
   "outputs": [
    {
     "name": "stdout",
     "output_type": "stream",
     "text": [
      "initial_state=s1\n",
      "state_space={'s7', 's5', 's6', 's4', 's2', 's3', 's1'}\n",
      "goal_states={'s7'}\n",
      "actions={'s1': {('s1', 's3'), ('s1', 's2'), ('s1', 's4')}, 's2': {('s2', 's5')}, 's3': {('s3', 's7')}, 's4': {('s4', 's6')}, 's5': {('s5', 's7')}, 's6': {('s6', 's7')}, 's7': set()}\n",
      "transition_function={('s1', ('s1', 's2')): 's2', ('s1', ('s1', 's3')): 's3', ('s1', ('s1', 's4')): 's4', ('s2', ('s2', 's5')): 's5', ('s3', ('s3', 's7')): 's7', ('s4', ('s4', 's6')): 's6', ('s5', ('s5', 's7')): 's7', ('s6', ('s6', 's7')): 's7'}\n",
      "costs={('s1', 's2'): 2, ('s1', 's3'): 2, ('s1', 's4'): 1, ('s2', 's5'): 2, ('s3', 's7'): 10, ('s4', 's6'): 1, ('s5', 's7'): 3, ('s6', 's7'): 4}\n"
     ]
    }
   ],
   "source": [
    "# Code to auto-generate state space model\n",
    "\n",
    "states = set(['s{}'.format(i) for i in range(1,8)])\n",
    "ini_st = 's1'\n",
    "goal_sts = set(['s7'])\n",
    "\n",
    "costs = {\n",
    "    ('s1','s2'):2,\n",
    "    ('s1','s3'):2,\n",
    "    ('s1','s4'):1,\n",
    "    ('s2','s5'):2,\n",
    "    ('s3','s7'):10,\n",
    "    ('s4','s6'):1,\n",
    "    ('s5','s7'):3,\n",
    "    ('s6','s7'):4,\n",
    "}\n",
    "\n",
    "\n",
    "actions = {'s{}'.format(i): set() for i in range(1,8)}\n",
    "for k1,k2 in costs.keys():\n",
    "  actions[k1].add((k1,k2))\n",
    "\n",
    "tranf = {(k[0],k):k[1] for k in costs.keys()}\n",
    "\n",
    "prob = Problem(initial_state=ini_st, state_space=states, goal_states=goal_sts, actions=actions, transition_function=tranf, costs=costs)\n",
    "\n",
    "print ('initial_state={}'.format(prob.initial_state))\n",
    "print ('state_space={}'.format(prob.state_space))\n",
    "print ('goal_states={}'.format(prob.goal_states))\n",
    "print ('actions={}'.format(prob.actions))\n",
    "print ('transition_function={}'.format(prob.transition_function))\n",
    "print ('costs={}'.format(prob.costs))\n"
   ]
  },
  {
   "cell_type": "markdown",
   "metadata": {
    "id": "prqvYVNs7Z8g"
   },
   "source": [
    "#### Code to define the problem (i.e. state space model)"
   ]
  },
  {
   "cell_type": "code",
   "execution_count": 25,
   "metadata": {
    "id": "EA7bnF0C51QK"
   },
   "outputs": [],
   "source": [
    "initial_state = 's1'\n",
    "state_space = {'s3', 's5', 's1', 's2', 's4', 's7', 's6'}\n",
    "goal_states = {'s7'}\n",
    "actions = {'s1': {('s1', 's3'), ('s1', 's2'), ('s1', 's4')}, 's2': {('s2', 's5')}, 's3': {('s3', 's7')}, 's4': {('s4', 's6')}, 's5': {('s5', 's7')}, 's6': {('s6', 's7')}, 's7': set()}\n",
    "transition_function = {('s1', ('s1', 's2')): 's2', ('s1', ('s1', 's3')): 's3', ('s1', ('s1', 's4')): 's4', ('s2', ('s2', 's5')): 's5', ('s3', ('s3', 's7')): 's7', ('s4', ('s4', 's6')): 's6', ('s5', ('s5', 's7')): 's7', ('s6', ('s6', 's7')): 's7'}\n",
    "costs = {('s1', 's2'): 2, ('s1', 's3'): 2, ('s1', 's4'): 1, ('s2', 's5'): 2, ('s3', 's7'): 10, ('s4', 's6'): 1, ('s5', 's7'): 3, ('s6', 's7'): 4}\n",
    "\n",
    "problem = Problem(initial_state, state_space, goal_states, actions, transition_function, costs)"
   ]
  },
  {
   "cell_type": "markdown",
   "metadata": {
    "id": "HGjgFMwg7qr-"
   },
   "source": [
    "#### Generate the state transition graph for the problem:"
   ]
  },
  {
   "cell_type": "code",
   "execution_count": 6,
   "metadata": {
    "colab": {
     "base_uri": "https://localhost:8080/",
     "height": 581
    },
    "id": "_5uctAO-9Vwe",
    "outputId": "d7bf9382-feb3-48bd-8ec8-c2ebfc7c01d9"
   },
   "outputs": [
    {
     "data": {
      "image/png": "[encoded data removed]",
      "text/plain": [
       "<IPython.core.display.Image object>"
      ]
     },
     "metadata": {},
     "output_type": "display_data"
    }
   ],
   "source": [
    "display(Image(render_graph(generate_state_graph(problem))))"
   ]
  },
  {
   "cell_type": "markdown",
   "metadata": {
    "id": "UC43XOxPC1AW"
   },
   "source": [
    "---\n",
    "\n",
    "\n",
    "### Problem 1:"
   ]
  },
  {
   "cell_type": "markdown",
   "metadata": {
    "id": "JnZqmp3q1kWy"
   },
   "source": [
    "\n",
    "Following the above example, define the state-space model of the graph:\n",
    "\n",
    "![image.png](data:image/png;base64,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)"
   ]
  },
  {
   "cell_type": "markdown",
   "metadata": {
    "id": "7nzYjY0-A7M8"
   },
   "source": [
    "#### Task 1: please complete the following code:"
   ]
  },
  {
   "cell_type": "code",
   "execution_count": 7,
   "metadata": {
    "id": "6DLhMhd_75OM"
   },
   "outputs": [],
   "source": [
    "initial_state='s1'\n",
    "state_space={'s1', 's2', 's4', 's3'}\n",
    "goal_states={'s4'}\n",
    "actions={'s1': {('s1', 's3'), ('s1', 's2')}, 's2': {('s2', 's3')}, 's3': {('s3', 's4'), ('s3', 's1')}, 's4': set(), 's5': set(), 's6': set(), 's7': set()}\n",
    "transition_function={('s1', ('s1', 's3')): 's3', ('s1', ('s1', 's2')): 's2', ('s2', ('s2', 's3')): 's3', ('s3', ('s3', 's1')): 's1', ('s3', ('s3', 's4')): 's4'}\n",
    "costs={('s1', 's3'): 2, ('s1', 's2'): 1, ('s2', 's3'): 4, ('s3', 's1'): 3, ('s3', 's4'): 5}\n",
    "\n",
    "\n",
    "problem1 = Problem(initial_state, state_space, goal_states, actions, transition_function, costs)\n"
   ]
  },
  {
   "cell_type": "markdown",
   "metadata": {
    "id": "3GjvxMrlBMYi"
   },
   "source": [
    "#### Task 2: try to visulize the state transition graph of your model:"
   ]
  },
  {
   "cell_type": "code",
   "execution_count": 9,
   "metadata": {
    "colab": {
     "base_uri": "https://localhost:8080/",
     "height": 529
    },
    "id": "1fYOilnZ5DU8",
    "outputId": "744c60eb-8270-4492-cf68-d1b1e9547c72"
   },
   "outputs": [
    {
     "data": {
      "image/png": "[encoded data removed]",
      "text/plain": [
       "<IPython.core.display.Image object>"
      ]
     },
     "metadata": {},
     "output_type": "display_data"
    }
   ],
   "source": [
    "display(Image(render_graph(generate_state_graph(problem1))))"
   ]
  },
  {
   "cell_type": "markdown",
   "metadata": {
    "id": "S8b0115NCVL2"
   },
   "source": [
    "### Problem 2"
   ]
  },
  {
   "cell_type": "markdown",
   "metadata": {
    "id": "aZpGj7U_D2U_"
   },
   "source": [
    "Run three common blind search algorithms (i.e. BFS, DFS and ID) on the given state space model from the Example. What's the difference between the **state transition graph** and the **search tree** generated during the search process？\n",
    "\n"
   ]
  },
  {
   "cell_type": "markdown",
   "metadata": {
    "id": "0Po-5Dxr5ZKw"
   },
   "source": [
    "![image.png](data:image/png;base64,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)\n"
   ]
  },
  {
   "cell_type": "markdown",
   "metadata": {
    "id": "zn5r843A_YUp"
   },
   "source": [
    "#### Task 1:\n",
    "Discuss with others, and finish the node expansion order for each algorithm:"
   ]
  },
  {
   "cell_type": "markdown",
   "metadata": {
    "id": "7gYsvDzSEhE9"
   },
   "source": [
    "##### BrFS(Breadth First Search):\n"
   ]
  },
  {
   "cell_type": "code",
   "execution_count": 10,
   "metadata": {
    "id": "AAqIDWnqzDYU"
   },
   "outputs": [],
   "source": [
    "#  Expansion node order\n",
    "nodes = [ # (state, accumulated cost, id of parent node)\n",
    "      ('s1',0,None),\n",
    "      ('s2',2,0),\n",
    "      ('s3',2,0),\n",
    "      ('s4',1,0),\n",
    "      ('s5',4,1),\n",
    "      ('s7',12,2)\n",
    "]"
   ]
  },
  {
   "cell_type": "code",
   "execution_count": 11,
   "metadata": {
    "colab": {
     "base_uri": "https://localhost:8080/",
     "height": 411,
     "referenced_widgets": [
      "1b3a7bb79674404296cc90beca617a99",
      "08d98068eaa84591a986efedb0bdd715",
      "05689cc0277e4076be7a22ea5a9dc8b8",
      "bc91d0010e664f928adee53b98fc9dcb",
      "12fcfb5ffc58488ba8d356a7c4a775e4",
      "8db7617a2f3849149ebddd4d1f6da761",
      "ead91215292542cf8730064edd170e4e"
     ]
    },
    "id": "u9KavEDipYb8",
    "outputId": "ec78915b-8341-47b5-ac4b-87a759458463"
   },
   "outputs": [
    {
     "data": {
      "application/vnd.jupyter.widget-view+json": {
       "model_id": "1b3a7bb79674404296cc90beca617a99",
       "version_major": 2,
       "version_minor": 0
      },
      "text/plain": [
       "interactive(children=(IntSlider(value=2, description='idx', max=5), Output()), _dom_classes=('widget-interact'…"
      ]
     },
     "metadata": {},
     "output_type": "display_data"
    }
   ],
   "source": [
    "visulize_search_process(nodes,problem)"
   ]
  },
  {
   "cell_type": "markdown",
   "metadata": {
    "id": "0PgvEwPbETZk"
   },
   "source": [
    "##### DFS(Depth First Search):"
   ]
  },
  {
   "cell_type": "code",
   "execution_count": 12,
   "metadata": {
    "id": "6VLLnA_lEZoq"
   },
   "outputs": [],
   "source": [
    "#  Expansion node order\n",
    "nodes = [ # (state, accumulated cost, id of parent node)\n",
    "      ('s1',0,None),\n",
    "      ('s2',2,0),\n",
    "      ('s5',4,1),\n",
    "      ('s7',7,2)\n",
    "]"
   ]
  },
  {
   "cell_type": "code",
   "execution_count": 13,
   "metadata": {
    "colab": {
     "base_uri": "https://localhost:8080/",
     "height": 550,
     "referenced_widgets": [
      "9b3761de007d4734b910a146e13ba106",
      "9f53065fca8544cf966533a2104caf44",
      "82eef5f07e704423b97fd103563ce621",
      "9cbd9e8f50a24d1aad2c9cc552dbfca2",
      "98e9c22f602c47e69d1a2412a1eeca09",
      "83c582232c5f494f8870c32a68ae2233",
      "80b08d23c5ea427cb953cd58c50c9bd5"
     ]
    },
    "id": "bzWl8GXuE1Eu",
    "outputId": "3d888c00-5d0d-4c47-f1c9-7427cc91e099"
   },
   "outputs": [
    {
     "data": {
      "application/vnd.jupyter.widget-view+json": {
       "model_id": "9b3761de007d4734b910a146e13ba106",
       "version_major": 2,
       "version_minor": 0
      },
      "text/plain": [
       "interactive(children=(IntSlider(value=1, description='idx', max=3), Output()), _dom_classes=('widget-interact'…"
      ]
     },
     "metadata": {},
     "output_type": "display_data"
    }
   ],
   "source": [
    "visulize_search_process(nodes,problem)"
   ]
  },
  {
   "cell_type": "markdown",
   "metadata": {
    "id": "eZD8T2h1GP8k"
   },
   "source": [
    "##### ID(Iterative Deepening):"
   ]
  },
  {
   "cell_type": "code",
   "execution_count": 14,
   "metadata": {
    "id": "MjBqaoOUHDAC"
   },
   "outputs": [],
   "source": [
    "#  Expansion node order\n",
    "nodes = [ # (state, accumulated cost, id of parent node)\n",
    "      ('s1',0,None),\n",
    "      ('s1',0,None),\n",
    "      ('s2',2,1),\n",
    "      ('s3',2,1),\n",
    "      ('s4',1,1),\n",
    "      ('s1',0,None),\n",
    "      ('s2',2,5),\n",
    "      ('s5',4,6),\n",
    "      ('s3',2,5),\n",
    "      ('s7',12,8)\n",
    "]"
   ]
  },
  {
   "cell_type": "code",
   "execution_count": 15,
   "metadata": {
    "colab": {
     "base_uri": "https://localhost:8080/",
     "height": 411,
     "referenced_widgets": [
      "2560b273082e4cbabec43df50365dfc9",
      "6fbd7057854541079918e209d330a0ff",
      "53f01c4911ae47818d48d8ea3e11b7a5",
      "0a1a28763ae54cfcbdf299b2514f4556",
      "7806fb30c4984c99b08e39302136637e",
      "e57c7b83cfde44feb347cc2e57c9df3d",
      "617002d08ffe43648a9d364a861fbe8d"
     ]
    },
    "id": "rSFd-6PZH797",
    "outputId": "8e90bdd5-c827-4934-c77f-007628cc4133"
   },
   "outputs": [
    {
     "data": {
      "application/vnd.jupyter.widget-view+json": {
       "model_id": "2560b273082e4cbabec43df50365dfc9",
       "version_major": 2,
       "version_minor": 0
      },
      "text/plain": [
       "interactive(children=(IntSlider(value=4, description='idx', max=9), Output()), _dom_classes=('widget-interact'…"
      ]
     },
     "metadata": {},
     "output_type": "display_data"
    }
   ],
   "source": [
    "visulize_search_process(nodes,problem)"
   ]
  },
  {
   "cell_type": "markdown",
   "metadata": {
    "id": "UmnUGVCfALwp"
   },
   "source": [
    "#### Task 2:"
   ]
  },
  {
   "cell_type": "markdown",
   "metadata": {
    "id": "RXEm1nzzA0CN"
   },
   "source": [
    "##### Q1: What is the solution found by each algorithm?"
   ]
  },
  {
   "cell_type": "markdown",
   "metadata": {
    "id": "uDqx6QLEA7_E"
   },
   "source": [
    "- BrFS: s1 -> s3 -> s7\n",
    "- DFS: s1 -> s2 -> s5 -> s7 (depends on the tie-break rules)\n",
    "- ID: s1 -> s3 -> s7"
   ]
  },
  {
   "cell_type": "markdown",
   "metadata": {
    "id": "E7KfupOJA8pf"
   },
   "source": [
    "##### Q2: What is the actual optimal solution?"
   ]
  },
  {
   "cell_type": "markdown",
   "metadata": {
    "id": "nFAP2Cs5BfzL"
   },
   "source": [
    "- s1 -> s4 -> s6 -> s7"
   ]
  },
  {
   "cell_type": "markdown",
   "metadata": {
    "id": "vXEd4LMhBgWq"
   },
   "source": [
    "##### Q3: Explain under which conditions the algorithms guarantee optimality?"
   ]
  },
  {
   "cell_type": "markdown",
   "metadata": {
    "id": "edH4piKXBuXq"
   },
   "source": [
    "- BrFS: with uniform cost\n",
    "- DFS: Can't guarantee\n",
    "- ID: with uniform cost"
   ]
  },
  {
   "cell_type": "markdown",
   "metadata": {
    "id": "y0Av9c4xBy6c"
   },
   "source": [
    "##### Q4: Can any of the previous algorithms be adapted to account for $g(n)$ in order to make it optimal?"
   ]
  },
  {
   "cell_type": "markdown",
   "metadata": {
    "id": "8MJ_rU_oF252"
   },
   "source": [
    "If tiebreaker for BrFS was minimum g(n)"
   ]
  },
  {
   "cell_type": "markdown",
   "metadata": {
    "id": "m4KDVuIyPu19"
   },
   "source": [
    "### Problem 3:\n"
   ]
  },
  {
   "cell_type": "markdown",
   "metadata": {
    "id": "BVvOhutAP1g1"
   },
   "source": [
    "Describe a simple example of *Travelling Salesman Problem* along with its corresponding **State Space Model**.\n",
    "\n",
    "\n",
    "\n",
    "Definition should be brief, clear, and\n",
    "*compact* (*compact* means using mathematical notation to\n",
    "  define sets, i.e. $S = \\{ x | x \\in V \\}$ to define that there are\n",
    "  as many states as elements in the set $V$, and pseudo-code, i.e. to\n",
    "  define the transition function.)\n",
    "\n",
    "1. State space $S$\n",
    "2. Initial state $s_0 \\in S$\n",
    "3. Set of goal states  $S_G \\subseteq S$\n",
    "4. Applicable actions function $A(s)$ for each state $s \\in S$\n",
    "5. Transition function $f(s,a)$ for $s \\in S$ and $a \\in A(s)$\n",
    "6. Cost of each action $c(a)$ for $a \\in A(s)$\n",
    "\n"
   ]
  },
  {
   "cell_type": "markdown",
   "metadata": {
    "id": "6rj-WB1ITLIL"
   },
   "source": [
    "**Hint**: Consider a set of cities $V$ to visit in any order, a starting city location $v_{start}$, and a set of edges $E$ specifying if there's an edge from two cities $\\langle v_1, v_2 \\rangle$.\n",
    "Let $V'$ be the set of cities has been visited.\n",
    "\n",
    "![tut1q3.png](data:image/png;base64,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)"
   ]
  },
  {
   "cell_type": "markdown",
   "metadata": {
    "id": "LSrmYAFEUWkx"
   },
   "source": [
    "### Challenge Problem 1:"
   ]
  },
  {
   "cell_type": "markdown",
   "metadata": {
    "id": "ZSwCuPTM9SPs"
   },
   "source": [
    "Review problem 2, instead of manual input the node expansion order, now you can try to implement those blind search algorithm on your own."
   ]
  },
  {
   "cell_type": "markdown",
   "metadata": {
    "id": "TCoZgSda9KB3"
   },
   "source": [
    "#### State transition graph:\n",
    "\n",
    "![image.png](data:image/png;base64,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)\n"
   ]
  },
  {
   "cell_type": "code",
   "execution_count": 17,
   "metadata": {
    "colab": {
     "base_uri": "https://localhost:8080/"
    },
    "id": "403xO7bpVnDm",
    "outputId": "462cbeb9-b781-4bdc-fa78-5cf5fada6efa"
   },
   "outputs": [
    {
     "name": "stdout",
     "output_type": "stream",
     "text": [
      "<__main__.Problem object at 0x7a4d202a7850>\n"
     ]
    }
   ],
   "source": [
    "# what's inside problem class\n",
    "initial_state = 's1'\n",
    "state_space = {'s3', 's5', 's1', 's2', 's4', 's7', 's6'}\n",
    "goal_states = {'s7'}\n",
    "actions = {'s1': {('s1', 's3'), ('s1', 's2'), ('s1', 's4')}, 's2': {('s2', 's5')}, 's3': {('s3', 's7')}, 's4': {('s4', 's6')}, 's5': {('s5', 's7')}, 's6': {('s6', 's7')}, 's7': set()}\n",
    "transition_function = {('s1', ('s1', 's2')): 's2', ('s1', ('s1', 's3')): 's3', ('s1', ('s1', 's4')): 's4', ('s2', ('s2', 's5')): 's5', ('s3', ('s3', 's7')): 's7', ('s4', ('s4', 's6')): 's6', ('s5', ('s5', 's7')): 's7', ('s6', ('s6', 's7')): 's7'}\n",
    "costs = {('s1', 's2'): 2, ('s1', 's3'): 2, ('s1', 's4'): 1, ('s2', 's5'): 2, ('s3', 's7'): 10, ('s4', 's6'): 1, ('s5', 's7'): 3, ('s6', 's7'): 4}\n",
    "\n",
    "problem = Problem(initial_state, state_space, goal_states, actions, transition_function, costs)"
   ]
  },
  {
   "cell_type": "markdown",
   "metadata": {
    "id": "oCGzbSGEUpTP"
   },
   "source": [
    "#### Algorithm Implementation: BFS"
   ]
  },
  {
   "cell_type": "code",
   "execution_count": 32,
   "metadata": {
    "id": "_pEe5X3sVJAH"
   },
   "outputs": [],
   "source": [
    "# Instead of return the final solution, your function here should append the node when it gets expanded, and return the expanded list\n",
    "def BFS(problem):\n",
    "    expansion_order = []\n",
    "    # Your code here:\n",
    "    open_list = [(problem.initial_state, 0, None)]\n",
    "    while open_list:\n",
    "      curr = open_list.pop(0)\n",
    "      expansion_order.append(curr)\n",
    "      state, accu_cost, parent_node_id = curr\n",
    "\n",
    "      if state in problem.goal_states:\n",
    "        return expansion_order\n",
    "\n",
    "      curr_actions = problem.actions[state]\n",
    "      for action in curr_actions:\n",
    "        succ_state = problem.transition_function[(state, action)]\n",
    "        cost = accu_cost + problem.costs[action]\n",
    "        open_list.append((succ_state, cost, len(expansion_order)-1))\n",
    "\n",
    "    return expansion_order"
   ]
  },
  {
   "cell_type": "code",
   "execution_count": 46,
   "metadata": {
    "colab": {
     "base_uri": "https://localhost:8080/",
     "height": 411,
     "referenced_widgets": [
      "e9ec2741060943c9883dab9679cada92",
      "1f9c882781034abcb5716a4c2d688870",
      "b476415db8e3421c8a4bf3d7379480f8",
      "dca93efcf9e7461c942a036a8e0e3c3e",
      "12f4d4afcf8746f0ab84600a1726f16a",
      "4ae2d30e6b2d4ea394c2ec60296b65c3",
      "4d00fdcf7b584318a821b51e294b74b6"
     ]
    },
    "id": "WZRlact4ZWsy",
    "outputId": "7578201e-fe0f-44e3-fcb9-f72010e7e47c"
   },
   "outputs": [
    {
     "data": {
      "application/vnd.jupyter.widget-view+json": {
       "model_id": "e9ec2741060943c9883dab9679cada92",
       "version_major": 2,
       "version_minor": 0
      },
      "text/plain": [
       "interactive(children=(IntSlider(value=2, description='idx', max=4), Output()), _dom_classes=('widget-interact'…"
      ]
     },
     "metadata": {},
     "output_type": "display_data"
    }
   ],
   "source": [
    "visulize_search_process(BFS(problem),problem)"
   ]
  },
  {
   "cell_type": "markdown",
   "metadata": {
    "id": "iUgj54NpaCzE"
   },
   "source": [
    "#### Algorithm Implementation: DFS"
   ]
  },
  {
   "cell_type": "code",
   "execution_count": 43,
   "metadata": {
    "id": "6BALYV0faGdE"
   },
   "outputs": [],
   "source": [
    "# Instead of return the final solution, your function here should append the node when it gets expanded, and return the expanded list\n",
    "def DFS(problem):\n",
    "    expansion_order = []\n",
    "    # Your code here:\n",
    "    open_list = [(problem.initial_state, 0, None)]\n",
    "    while open_list:\n",
    "      curr = open_list.pop()\n",
    "      expansion_order.append(curr)\n",
    "      state, accu_cost, parent_node_id = curr\n",
    "\n",
    "      if state in problem.goal_states:\n",
    "        return expansion_order\n",
    "\n",
    "      curr_actions = problem.actions[state]\n",
    "      for action in curr_actions:\n",
    "        succ_state = problem.transition_function[(state, action)]\n",
    "        cost = accu_cost + problem.costs[action]\n",
    "        open_list.append((succ_state, cost, len(expansion_order)-1))\n",
    "\n",
    "    return expansion_order"
   ]
  },
  {
   "cell_type": "code",
   "execution_count": 44,
   "metadata": {
    "colab": {
     "base_uri": "https://localhost:8080/",
     "height": 271,
     "referenced_widgets": [
      "2aebeadc72384afd94b5e6ca99b21fff",
      "194b723b0bd7411cb218db462bdfb314",
      "e3c386e8179b4bccac401b09f533c434",
      "8cf82d54ac0046a5966f2f5f9c19bc95",
      "4c3a87b5fc3641e486ce55d6f9a776d9",
      "502f69fcd4604914b48e9a5563e2c6dc",
      "503143c2d50f4932965754332b1f8118"
     ]
    },
    "id": "seilI7S5aTUM",
    "outputId": "86703f3c-d4d0-4d03-b24f-f5241f3cacfa"
   },
   "outputs": [
    {
     "data": {
      "application/vnd.jupyter.widget-view+json": {
       "model_id": "2aebeadc72384afd94b5e6ca99b21fff",
       "version_major": 2,
       "version_minor": 0
      },
      "text/plain": [
       "interactive(children=(IntSlider(value=1, description='idx', max=3), Output()), _dom_classes=('widget-interact'…"
      ]
     },
     "metadata": {},
     "output_type": "display_data"
    }
   ],
   "source": [
    "visulize_search_process(DFS(problem),problem)"
   ]
  },
  {
   "cell_type": "markdown",
   "metadata": {
    "id": "JTBmIPngGGi5"
   },
   "source": [
    "#### Algorithm Implementation: ID"
   ]
  },
  {
   "cell_type": "code",
   "execution_count": 52,
   "metadata": {
    "id": "7y7ee7IHGGi-"
   },
   "outputs": [],
   "source": [
    "# Instead of return the final solution, your function here should append the node when it gets expanded, and return the expanded list\n",
    "def ID(problem):\n",
    "    expansion_order = []\n",
    "    # Your code here:\n",
    "    max_depth = 0\n",
    "    while True:\n",
    "        open_list = [((problem.initial_state, 0, None), 0)]\n",
    "        while open_list:\n",
    "          curr, depth = open_list.pop()\n",
    "          expansion_order.append(curr)\n",
    "          state, accu_cost, parent_node_id = curr\n",
    "\n",
    "          if state in problem.goal_states:\n",
    "            return expansion_order\n",
    "\n",
    "          if depth < max_depth:\n",
    "            curr_actions = problem.actions[state]\n",
    "            for action in curr_actions:\n",
    "              succ_state = problem.transition_function[(state, action)]\n",
    "              cost = accu_cost + problem.costs[action]\n",
    "              open_list.append(((succ_state, cost, len(expansion_order)-1), depth+1))\n",
    "\n",
    "        max_depth += 1\n",
    "\n",
    "    return expansion_order"
   ]
  },
  {
   "cell_type": "code",
   "execution_count": 54,
   "metadata": {
    "colab": {
     "base_uri": "https://localhost:8080/",
     "height": 411,
     "referenced_widgets": [
      "f3c5f9e4ee0149fab2c5552882da3941",
      "384a936e7d9f43a8987dca3a7996becc",
      "33f2b35456c54c818698b4b7302550a6",
      "592c9ea6c59a459591224a88734f44cc",
      "25c7d4db5ff94b179578465cb221a367",
      "ae338f90480c402ebbdd2b8478ac03d5",
      "70ae564aa18d4a0f908dae43b80dfea7"
     ]
    },
    "id": "sRublBFlGGjD",
    "outputId": "0be6f95a-a86a-491f-d56f-c37d961e0236"
   },
   "outputs": [
    {
     "data": {
      "application/vnd.jupyter.widget-view+json": {
       "model_id": "f3c5f9e4ee0149fab2c5552882da3941",
       "version_major": 2,
       "version_minor": 0
      },
      "text/plain": [
       "interactive(children=(IntSlider(value=5, description='idx', max=11), Output()), _dom_classes=('widget-interact…"
      ]
     },
     "metadata": {},
     "output_type": "display_data"
    }
   ],
   "source": [
    "visulize_search_process(ID(problem),problem)"
   ]
  }
 ],
 "metadata": {
  "colab": {
   "include_colab_link": true,
   "name": "problem_set_01.ipynb",
   "provenance": [],
   "toc_visible": true
  },
  "kernelspec": {
   "display_name": "Python [conda env:base] *",
   "language": "python",
   "name": "conda-base-py"
  },
  "language_info": {
   "codemirror_mode": {
    "name": "ipython",
    "version": 3
   },
   "file_extension": ".py",
   "mimetype": "text/x-python",
   "name": "python",
   "nbconvert_exporter": "python",
   "pygments_lexer": "ipython3",
   "version": "3.12.7"
  },
  "widgets": {
   "application/vnd.jupyter.widget-state+json": {
    "05689cc0277e4076be7a22ea5a9dc8b8": {
     "model_module": "@jupyter-widgets/output",
     "model_module_version": "1.0.0",
     "model_name": "OutputModel",
     "state": {
      "_dom_classes": [],
      "_model_module": "@jupyter-widgets/output",
      "_model_module_version": "1.0.0",
      "_model_name": "OutputModel",
      "_view_count": null,
      "_view_module": "@jupyter-widgets/output",
      "_view_module_version": "1.0.0",
      "_view_name": "OutputView",
      "layout": "IPY_MODEL_ead91215292542cf8730064edd170e4e",
      "msg_id": "",
      "outputs": [
       {
        "data": {
         "image/png": "iVBORw0KGgoAAAANSUhEUgAAAVoAAAFqCAYAAABbK5LbAAAABmJLR0QA/wD/AP+gvaeTAAAgAElEQVR4nOzdd3RU1frG8e8kGVIgoSVAwFCCNJGqFylSREWpAkoVEFRALFz0XoqCiMjPAl7AAl6xAIoiKB3EgkiTolTpPYD0HkrqzPP7A8gFSSAJM3NmJvszy7Vcw5zZz+Twvtmcc2YfmyRhGIZhuE2A1QEMwzD8nWm0hmEYbmYarWEYhpsFWR3AMDIjnngcOEghhfOcv+bPggkmjDAA8pKXADN/MLyMabSGJc5znt3sZg97iCOO4xznGMc4cflxkpNp/58dechDFFEUohCRRFKQgkQSSRRRxBBDaUoTSyyFKOTiT2YY17OZqw4MdzrEIdZdfmxjW1pzPcYxAGzYiCaaKKIoTGEi03nA/2aqduzkIc81YySSSAIJwP9mvuc4x/HLjxNXPY5ylIMcJIUUAMIJJ5ZYSlOaMpShKlWpRjXKUMbMjA2XMY3WcJmTnGQJS1jNataylnWs4yhHAYgllopUJPby48qMshSlCCHEozkdODjAAfawJ63x72EP29nOFraQQgp5yEMVqlCNatzFXdSlLqUp7dGchv8wjdbIttOcZglL+PXyYxObsGGjHOWodvlRnepUoxr5yGd13ExJIomNbEz7RbGOdfzJnySQQAwx3Hf50YAGlKSk1XENH2EarZEl29jGjMuPNawBoDKVaUAD7uM+6lHPZ5pqZiWTzCpW8Su/sohFrGQlCSRQilI8wiO0ohV1qEMggVZHNbyUabTGTa1lLdOZzgxmsIUtFKIQj/AITWhCPepRgAJWR/SoJJJYyUp+4idmMIOtbKUQhWhJS1rRioY0JBe5rI5peBHTaI10neEMU5nKGMbwJ38SQwyNaUwzmtGYxgSZC1bS7GEPc5jDt3zLcpaTl7y0pS3P8RyVqWx1PMMLmEZrpBFiIQv5lE+ZwQyCCaYDHXiSJ/kH/8CGzeqIXm8f+/iCL/iMz9jHPupSl6d5mja0IZRQq+MZFjGN1sCJk2lMYwhD2MIW7uIuetCDjnS87lIqI3OcOFnIQsYxjlnMIoQQetGLfvTLcYdaDNNoc7QkkhjPeIYznAMcoAMd6EtfKlHJ6mh+5ShHGctYPuADUkmlF714iZcoTGGroxkeYhptDuTAwSd8wlCGcopTdKMb/ehHKUpZHc2vneMcH/ERoxjFWc7Sk54MZjD5yW91NMPNTKPNYX7lV/rQh61s5VmepR/9KEpRq2PlKIkk8hmfMZShOHHyBm/Qne7m8jA/Zr5jmEPsZS+P8igNaUgMMWxkI6MZbZqsBUII4TmeYwc7eIIn+Cf/pDrV+ZVfrY5muIlptDnAF3xBZSqziU3MYQ5zmUs5ylkdK8fLS17e5V02sYlylKMhDelCFy5wwepohouZQwd+7DjHeZqnmcc8+tKXoQzFjt3qWEYGpjCFXvSiMIWZxCTu4i6rIxkuYma0fupHfqQyldnABhaykLd4yzRZL9eOdvzJnxSlKLWoxdu8jTDzIH9gGq0fGstYmtKU+7iPDWygHvWsjmRk0m3cxs/8zJu8yWAG04lOJJFkdSzjFplDB35EiNd5naEMZTCDGcIQqyMZt+AXfuExHqMCFZjFLKKIsjqSkU1mRusnkknmMR7jbd5mEpNyVJNdtmwZderUISwsjOjoaPr3709Sku/PAu/nfpaylIMcpC51iSPO6khGNplG6wecOOlMZxawgJ/4iY50tDqSx2zevJlGjRpx//33c/z4caZPn87nn39Or169rI7mEndyJytZSQghNKJR2p0pDN9iDh34gT704SM+Yi5zeZAHrY7jUe3bt+f3339n9+7d2GyXFr1599136devH1u2bKF8+fIWJ3SN4xynLnUJJpjFLPa7NX/9nZnR+rihDOVDPuQbvslxTTY1NZV58+ZRv379tCYL0LhxYyQxa9YsC9O5VhRRfM/3HOc4j/KoOUHmY0yj9WE/8RNDGMIYxtCKVlbHcamxY8eSO3duwsLCmDVrFo0bNyYiIoLbbruNyZMnA7Bnzx7Onz9P8eLFr9m2dOlL9/b6888/PZ7bnWKJ5Qd+4A/+4FVetTqOkQWm0fqoM5zhaZ6mNa3pSU+r47jcs88+y4svvkhCQgLh4eFMmTKF3bt3ExsbS/fu3UlJSeHIkSMAhIeHX7NtSEgIoaGhHD161IroblWZyrzHe/yH/5iv7PoQ02h91DM8gxMn4xhndRS3q127NhEREURFRdG+fXsuXLjA/v37064sCAy8fjEWu91OQkKCp6N6RDe68SiP0oUunOa01XGMTDCN1gfNZCZTmcoEJuS4RaRz5bp0L66UlBRCQi7dpjw1NfW61yUnJxMa6r93NBjDGFJJNYcQfIRptD4mlVRe5mXa0Y4HeMDqOJYqUqQIAPHx8dc8f/HiRRITE4mOjrYilkdEEcUwhjGOcexil9VxjJswjdbHTGMaO9nJMIZZHcVypUqVIjw8nH379l3z/K5dlxpP5cr+fWPErnQlllje4R2roxg3YRqtj3mf92lJS0pT2uoolgsKCqJJkyYsWbIEp9OZ9vz8+fOx2Wy0aNHCwnTuF0ggfejDV3zFCU5YHce4AdNofcgudrGc5X55lUF2vfrqqxw9epTXXnuNCxcusGLFCkaMGEHXrl0pV87/19ztTGcCCOA7vrM6inEjMnzGW3pLhVRIKUqxOorbjRkzRmFhYQJUpkwZ7d69W+PGjVNERIQAlShRQjt27JAkLV68WDVq1FBwcLCio6PVt29fJSYmWvwJPKet2up+3W91DOMGzFdwfchDPEQkkXzFV1ZHMbzIeMbzHM9xmtMEE2x1HCMd5tCBD1nFKupQx+oYhpepS10SSGA9662OYmTANFofcYQjnOUsd3CH1VEMLxNLLCGEsIMdVkcxMmAarY/Yz34ASlLS2iCG1wkggOIUZx/7bv5iwxKm0fqIc5wDIIIIi5MY3iic8LS/I4b3MY3WRzhwAJeunTSMv7NjJ4UUq2MYGTCN1kfkJjcA5zlvcRLDG53jHOGE3/yFhiVMo/URRbj0vf5DHLI4yY05nU5GjRpF7dq1M71NVu/5NW3aNGJjY7HZbNhsNjp37nzdaxo1akR4eDiBgYFUrFiRtWvXZuvz+IpDHEr7O2J4Iasv5DUyJ0UpyqVcmqRJVkfJ0I4dO1SnTh0BqlKlSqa22bRpk0JDQ/Xqq6/q/PnzWr58uSIjI9WtW7ebblu6dGkVLFhQgObOnXvdn8+fP1+PPPJIlj+HrzmmY0LoZ/1sdRQjA2ZG6yOCCKIylVnFKqujpGvDhg0MGDCAXr16UbVq1Uxv98Ybb1CkSBFef/11cufOTa1atejfvz8TJkxg27ZtN93+/fffJyAggJ49e3L27Nlb+Qg+awUrsGGjGtWsjmJkwDRaH1KPeixkodUx0lWlShWmTZvG448/TnBw5r6d5Ip7ftWuXZs+ffpw8OBB/v3vf2c7vy9byEIqUYmCFLQ6ipEB02h9yCM8wmY2s4Utloy/ePFiatSoQVhYGBEREVSqVOm6tWCzwlX3/Bo2bBhly5bl008/ZcGCBRm+ThIjR46kQoUKBAcHkz9/flq2bJk2c87MfcoAHA4HgwcPpnjx4oSGhlK5cmWmTJmS1Y/vEkLMYAYtaWnJ+EbmmEbrQ+7lXmKIYQITPD72hQsXaNGiBY899hinTp1i586dlC1bluTk5Gy/p6vu+RUaGsqECRMICAige/fuXLhwId3XDRkyhJdffpmBAwdy7NgxlixZwoEDB6hbty5Hjx7N1H3KAAYMGMDw4cMZNWoUhw8fpnnz5nTs2JHVq1dn+2eRXQtYwH7205a2Hh/byDzTaH1IAAH0ohef8qnHL/OKi4sjPj6eihUrEhISQuHChZk2bRqRkZHZfk9X3vOrVq1avPjii8TFxTFgwIDr/jwhIYGRI0fSunVrOnXqRN68ealUqRL//e9/OXHiBOPGXXvvtYzuU5aYmMjYsWNp1aoVjz76KPny5WPQoEHY7XbGjx+fxZ/ArRvFKBrSkIpU9PjYRuaZRutjetADBw5GMcqj48bGxlKoUCE6derEkCFDiIuLu+X3dPU9v4YNG0a5cuUYM2YMy5Ytu+bPNm/ezPnz57n77ruvef4f//gHuXLlYtWqjE8yXn2fsu3bt3Px4kXuvPPOtD8PDQ2lSJEimTp550rLWc585tOPfh4d18g602h9TEEK0o9+jGAEf/GXx8YNDQ1l4cKF3Hvvvfzf//0fsbGxtG/f/pbuNOvqe36FhIQwfvx4bDYbTz755DXZzpw5A0CePHmu2y5fvnycO5e5r69eOSwxaNCgtOt4bTYb+/bt4+LFi1nKeyscOPgX/6IBDXiIhzw2rpE9ptH6oJd4iWIUoytdEZ5bTrhixYrMmTOHQ4cO0b9/f6ZMmcK7776b7fdzxz2/atWqxUsvvcTOnTt544030p7Ply8fQLoN9cyZM9x2222Zev+oqCgARo0ahaRr/luxYkWW82bXCEawjnW8z/seG9PIPtNofVAooXzFVyxlKe/xnkfGPHToEFu2XLraISoqirfeeovq1aunPZcd7rrn1xtvvEH58uVZt25d2nN33nknefLkue6E1apVq0hOTuauu+7K1HvHxMQQEhLC+vXWrf26nvW8xmv8H/9HJSpZlsPIPNNofVR1qvMqr/IyL/MnmbsM6lYcOnSIZ555hm3btpGcnMy6devYt28fNWvWzPR7tG/fnsKFC1/zddjM3PMrve1u5MohhKtPsoWEhPCvf/2L6dOnM2nSJOLj49m4cSO9evUiOjqanj0zdx+2kJAQunXrxuTJkxk7dizx8fE4HA7++usvDh8+nOmfRXad5zyd6EQtavEiL7p9PMNFrPxamnFrUpSi+3Sfiqqo9mqvW8eKi4tT7dq1lT9/fgUGBqpo0aIaOHCgUlNTJUkrVqxQnTp1FB0dLUCAihQpotq1a2vx4sWSpFatWgnQ4MGDr3nvm93z6+/bTZ8+XaVLlxagyMhIPf/88+lm7tu37zVfwXU6nRoxYoTKlCkju92u/Pnzq1WrVtq+fbukzN+nLCkpSf3791fx4sUVFBSkqKgoPfroo9q8ebPrfuDpSFKSHtSDKqzCilOcW8cyXMvcM8zHxRPPfdzHWc6yjGVevbCI0+mkQYMGdO3alSeffNLt2/kTJ0460pH5zOdXfqU61a2OZGSBOXTg4yKI4Hu+x4aNpjTlNKetjpQuh8PBzJkzOXfuHO3bt3f7dv7EiZNneZZZlx+myfoe02j9QGEK8yM/cpzj1KY2e9lrdaTrLFq0iGnTpjF//nzCwsLcvp2/SCCBdrRjPOOZzGQa0MDqSEY2mEMHfuQwh2lOc+KIYyYzuZd7rY5k3IKTnKQVrdjEJqYz3TRZH2ZmtH4kmmgWsYia1KQRjfiGb6yOZGTTRjZyD/dwkIMsZ7lpsj7ONFo/k4c8zGIW3elORzrShS7Ek/0VtgzPEmIkI6lBDaKJZgUrKE95q2MZt8gcOvBjP/Ij3ehGLnIxkYnUp77VkYwbOMIRnuRJfuZnBjKQV3nV3IzTT5gZrR97iIdYz3oqU5n7uZ8XeZEznLE6lvE3Dhx8zMfcwR3sYQ8rWMEQhpgm60dMo/VzhSjEbGbzMR/zFV9RlrKMY1za7csNay1hCXdzNy/wAt3oxlrWcjd333xDw6eYRptDPMVT7GAHj/M4z/M8d3M3i1hkdawcK4442tGO+tSnCEX4kz/5D/8hjJx3CVtOYBptDpKPfIxiFBvYQGEKcx/3UY96/MAPVkfLMbayla50pSxlWcc65jCH+cw3J7z8nGm0OVAFKvADP7CUpeQlL01oQhWq8AVfmEMKbrKBDXShC5WoxDKW8SEfspnNNKOZ1dEMDzCNNge7l3uZwxxWs5oylKEb3ShHOd7iLQ7j/pWo/F0CCXzBF9SlLlWpyha2MIUp7GAHPeiBHbvVEQ0PMZd3GWm2sY2P+IhJTCKeeJrRjKd5mod52JwBz4INbOATPuErvuIiF2lOc3rSkwd50OpohkVMozWuk0gi05jGp3zKYhYTTTStLj/qU58ggqyO6HU2spEZzGA609nABspSlqd5mid4gkIUsjqeYTHTaI0b2slOvuZrZjCDDWygIAVpTnNa0YoHeCDHniV34OB3fmcmM5nOdHaxi6IUpSUtaUc76lIXGzarYxpewjRaI9PiiGMWs5jL3LRLw6pQhQcuP+pQh1CydudaX7KHPSy4/PiFXzjFKUpSkha0oA1tqE1tAsxpDyMdptEa2XKEIyxgAYtYxK/8yp7VewguHUyt/LWoSU2qXX7czu0+ObM7whHWXX6sZjVLWMLJpJMUDC5IPepxH/dxP/dzB3dYHdXwAabRGrdsy5Yt1L63NjW71aTIf4qwmtVsZzuppBJBBFWoQjWqcSd3EksspSlNDDFecYLtKEfZzW72sIetbGU961nHurSrLopTnOpU5/yg85z//TyL5i0i2B5scWrD15hGa9ySQ4cOUbt2bYoUKcLChQvTFudOIIGNbEybFa5jHdvYlraSmB07JSlJ7OVHIQoReflRmMJp/5+f/IQQkqVMDhyc4hQnOMFJTnKCExzjGMc5zglOsI99ac31POcBCCaY27k97ZdCVapSneoUoAAAa9eupX79+rRt25bPPvvMhT9BIycwjdbItnPnzlGvXj2SkpJYtmwZBQoUuOk2xznOHvaw+6rHXvZy4qqHE+d129mwkY98wKXbrV9pvg4cac37POdJISXdcfOSN62ZxxBDaUqnza5LU5rbuO2mx1fnz59PixYtGDJkCAMHDrzpZzWMK0yjNbIlJSWFZs2asXHjRpYvX07JkiVd8r5CabPQE5zgLGe5yEWAtPuhXeQi3w/9nt0Ld/PMomfIS17g0lq89suPvORNmxVHEumyLwd88skn9OzZk4kTJ9K5c2eXvKfh/8wFkUaWSaJ79+6sWLGCxYsXu6zJwqWZ65XmeCPHEo9xIv4EfenrsrEzo3v37mzbto2nn36aYsWK0bBhQ4+Ob/gmcy2KkWWvvPIKX3/9Nd9++y3VqlWzOo7HjRgxgmbNmtGmTRu2b99udRzDB5hGa2TJuHHjeOeddxg3bhwPPfSQ1XEsERAQwKRJkyhXrhyNGzfm6NGjVkcyvJxptEamzZ07l+eee45hw4bRtWtXq+NYKjQ0lNmzZxMUFETz5s25ePGi1ZEML2YarZEpv//+O+3bt6dbt2688sorVsfxCpGRkcyfP5+9e/fSpUsXnM7rr5YwDDCN1siE3bt307x5cxo0aMDYsWOtjuNVSpcuzfTp05k7dy4DBgywOo7hpUyjNW7o+PHjNG7cmBIlSjBlyhSCgsyFKn9Xt25dJk6cyLvvvsuHH35odRzDC5mqMTJ08eJFWrRogdPpZM6cOeTOndvqSF6rXbt27Nixgz59+hATE8MjjzxidSTDi5hGa6TL4XDQsWNHdu3axW+//UbhwoWtjuT1Xn31VQ4ePEjHjh359ddfqVGjhtWRDC9hDh0Y6XrhhRf46aefmD17NmXLlrU6js/44IMPqFOnDi1btmT//v1WxzG8hGm0xnWGDBnCuHHj+Prrr6lVq5bVcXyK3W7nu+++IyoqiiZNmnDmzBmrIxlewDRa4xqfffYZr7/+Ou+99x4tW7a0Oo5PioiI4Pvvv+fs2bO0bt2a5ORkqyMZFjON1kgzf/58nnnmGQYPHsxzzz1ndRyfVqxYMWbNmsUff/xBr169rI5jWMw0WgOANWvW0LZtW9q1a8eQIUOsjuMXqlevzpQpU/jiiy946623rI5jWMg0WoO9e/fSrFkzatSoweeff47N5nu3nvFWTZo0YcyYMQwcOJBJkyZZHcewiLm8K4c7efIkjRs3pmjRosyaNYtcuXJZHcnv9OjRg23btvHUU09RrFgx7rvvPqsjGR5mZrQ5WEJCAi1atCApKYl58+aRJ08eqyP5rXfffZdmzZrx2GOPmaUVcyDTaHMop9NJp06d2L59O/Pnz6dIkSJWR/Jrf19a8dixY1ZHMjzINNocqk+fPnz//ffMnDmT8uXLWx0nR7iytGJgYCDNmjUzSyvmIKbR5kBvvfUWY8aMYdKkSdx7771Wx8lRIiMjmTNnDrt27eKJJ54wSyvmEKbR5jCTJ09m4MCBjBo1ikcffdTqODlS+fLlmTlzJnPmzOHll1+2Oo7hAabR5iCLFi2iW7du9OvXj969e1sdJ0erV68eEyZMYMSIEYwZM8bqOIabmcu7cohNmzbRqlUrWrVqxZtvvml1HANo374927dv55///CcxMTG0aNHC6kiGm5gZbQ5w8OBBmjRpQtWqVZkwYQIBAWa3e4vBgwfTuXNnOnXqxPr1662OY7iJqTg/d/bsWZo0aUJERAQzZswgODjY6kjGVWw2G+PGjaNmzZo0bdrULK3op0yj9WPJyck8+uijnDx5kvnz5/P+++9zxx13EBERQXBwMLfffjv9+vXj/PnzVkfNtqFDh/r8Z7qytGLBggVp0qQJZ8+evaX3czqdjBo1itq1a7sooXGrTKP1U5J46qmn+OOPP5g3bx4xMTEsXLiQ559/nri4OE6cOMGbb77J6NGjadOmjdVxs81fPtOVpRXPnDlDu3btSE1Nzdb77Ny5k3r16vHSSy+Z63S9iQy/9OKLLypXrlz6+eef055r2rSpUlNTr3ld27ZtBWj//v2ejnhLXn75ZVWrVs2vPpMkrV69Wrlz59ZTTz2V5W3Xr1+v1q1ba9KkSapataqqVKnihoRGdpgZrR8aOXIko0eP5tNPP+WBBx5Ie37u3LkEBgZe89rIyEgAn539+Ntnuuuuu5gyZQoTJkzg7bffztK2VapUYdq0aTz++OPmWLyXMY3Wz3z77bf07duXESNG0Llz55u+/uDBg4SGhlKqVCkPpPMMX/9MTZs2ZcyYMbzyyitmaUU/Ya6j9SNLliyhS5cu9OzZk3/96183ff3FixdZuHAh3bt395vlEf3lM/Xs2ZOtW7eapRX9hJnR+oktW7bQsmVLGjVqxAcffJCpbd58802io6MZNmyYm9N5jj99ppEjR9K0aVPatGnDjh07rI5j3ALTaP3AoUOHaNKkCWXLlmXy5MnXHbNMz/Tp05k6dSo//vgj4eHhHkjpfv72mQICAvjqq68oU6aMWVrRx5lG6+Pi4+Np2rQpYWFhfP/994SFhd10m2+++Ya3336bRYsWUbJkSfeH9AB//ExwaWnFOXPmEBAQQPPmzX3yBJ9hGq1PS0lJ4bHHHuPo0aN8//33FChQ4KbbfPDBB0yaNImFCxdStGhRD6R0P3/8TFeLjIxk9uzZ7Ny5k65du5qlFX2QabQ+ShLdu3dn5cqVzJs376azOEn079+fjRs3MnPmTL+5bY0/fqb0VKhQgZkzZzJ79mwGDhxodRwjq6y+kNfInv79+8tut+uHH37I1Os3bdokIMP/RowY4ebErvXyyy+rQoUKfvWZMmPy5Mmy2WwaM2bMDV93zz33mC8seBEzo/VBH3/8McOHD2fcuHE89NBDmdpGkptTGZ7Qvn17Bg8eTO/evZkzZ841f7Zy5UruvfdeihYtyqpVq9iwYQPR0dHUqVOHJUuWWJTYAHMdrc+ZO3cuzz33HMOGDaNr166Z3u7OO+/0u2YbEhLid58pM1577TXi4uJ4/PHHWbJkCVWrVgWgZs2aLFu2zOJ0RnrMjNaH/P7777Rv354nn3ySV155xeo4hkVsNhuffPIJ99xzD02bNuXAgQNWRzJuwjRaH7F7926aN29OgwYNGDt2rNVxDIvZ7XamTZvmsqUVDfcyjdYHHD9+nMaNG1OiRAmmTJlCUJA54mNcWlpx9uzZnDhxgvbt22d7aUXD/Uyj9XIXL16kRYsWOJ1O5syZQ+7cua2OZHiRkiVLMnfuXJYuXcozzzxjdRwjA6bRejGHw0HHjh3ZtWsX33//PYULF7Y6kuGFrl5acfjw4VbHMdJhGq2XkkSPHj34+eefmT17NmXLlrU6kuHFmjZtyrvvvsuAAQP46quvrI5j/I052OelhgwZwsSJE5k2bRq1atWyOo7hA/r06cPevXt5+umnKVmyJHXq1LE6knGZmdF6oc8++4yhQ4fy3nvv8cgjj1gdx/Aho0aN4uGHH+aRRx4xSyt6EdNovcz8+fN55plnGDx4MM8995zVcQwfExAQwNdff02ZMmVo0qQJx48ftzqSgWm0XmXNmjW0bduWdu3aMWTIEKvjGD4qNDSU2bNnA9C6dWsSExMtTmSYRusl9u7dS9OmTalRowaff/45NpvN6kiGD4uKimLOnDls3ryZLl26mKUVLWYarRc4efIkjRs3plixYsyaNcun73VleI8KFSowY8YMZs+ezaBBg6yOk6OZqw4slpCQQIsWLUhOTmbRokV+vaaq4Xn169dn/PjxPP7448TExNCrVy+rI+VIptFayOFw0KlTJ7Zv386yZcsoUqSI1ZG8UmJiIgkJCdc953A4OH369DXP2+1288vqbzp06MC2bdt44YUXiImJoVmzZlZHynmsXQ43Z3vhhRcUEhKiZcuWWR3Fqy1YsOCGC3xf/V/fvn2tjuuVnE6nunTpovDwcK1fv97qODmOTcqBC3p6gTfffJNXX32VqVOn8uijj1odx6s5HA6KFCnCiRMnbvraNWvWUL16dQ+k8j0pKSk0btyYrVu3snLlSmJiYqyOlGOYk2EWmDx5MoMGDWLUqFGmyWZCYGAgnTp1wm633/B1sbGxpsnegN1uZ/r06RQoUMAsrehhptF62K+//kq3bt3o168fvXv3tjqOz+jQoQMpKSkZ/nmuXLmydMeJnCoiIoI5c+Zw/PhxOnToYJZW9BBz6MCDNm3aRN26dXn44Yf56quvCAgwv+eyomTJkuzbty/DP9++fbtZfCeTVq9eTYMGDejQoQOffPKJ1XH8nql0F5szZ06638Q5ePAgTZo0oWrVqkyYMME02Wzo0qVLusc8iZwAACAASURBVIcPbDYbVatWNU02C+6++26++eYbxo8fz4gRI677840bN5p/IbiStefi/EtiYqIKFCigmjVr6uTJk2nPnzlzRpUrV1bFihV1+vRpCxP6tq1bt6Z7pUFQUJBGjRpldTyfNHLkSNlsNn311Vdpz82bN0+hoaGy2WzasWOHhen8h2m0LjRp0iTZbDYFBQUpNjZWe/fuVVJSku6//34VK1ZM+/fvtzqiz6tYsaJsNts1jdZms+mvv/6yOprPunKZ4W+//aaxY8cqICBAAQEBstvt6tevn9Xx/II5RutCNWvWZPXq1TgcDux2OxERETz22GNMmTKFpUuXcuedd1od0ecNHz6cgQMHpp3ECQgIoE6dOixZssTiZL7L4XDQqlUr/vrrL9atW3fNnxUoUIAjR47c9IoP48bMgUIX2bJlC6tWrcLhcACXrlk8c+YMEydOZNiwYabJukiHDh3SfsZw6fhsly5dLEzk+1JTU7Hb7WzYsOG6Pzt9+nTaSmBG9plG6yJjxoy57re+w+EgOTmZ3r17mzO7LhITE0PNmjXTTibabDZat25tcSrfdfLkSRo0aMDs2bPTXeErICCAjz76yIJk/sU0Whc4f/48EyZMSPc6T6fTidPppEePHmaNWRfp3LkzNpuNwMBAHnroIQoUKGB1JJ+0fft2qlevzpo1azK8ntbhcLBw4UL27t3r4XT+xTRaF/j6669JSkq66etef/11+vfv74FE/q1NmzbApSbQuXNni9P4rqlTp3Lw4MGbvi4oKIjPPvvMA4n8l8+eDLvIRfaxjwMc4CxnOcMZUkklnniSSCKYYIIIIpxwQgghN7kpQhFKUIJoogkk0GVZKlWqxJYtWzJcXNlut+N0Onn22Wd57bXXKFiwoMvG9meppHKIQ+xnP0c4wgUukEQS8cQz7qFxxC2NY/CJwUSGRRJEEHnJS37yE0MMxSlOKKFWfwSvt3PnTgYMGMD06dMJCgrKcGZbsGBBDh8+7LKTYt5Uv57g9Y32LGdZz3rWXn5sZjP72c9JTl7zunzkI5BA8pIXO3ZSSCGVVM5xjkQSSeB/y+wFEURRihJLLFWpSvXLj/KUz/IOXLlyZYZ3qQ0MDMThcNCwYUPef/99KlasmPUfQA6QQgpb2MI61rGWtWxgA3vYw2EO4+B/J77CCCOYYCKIIOHLBBJ/SiTyy0jOcAYHDs5y7Xf3o4iiOMWpRCWqUY3qVKcqVcmDWUbx73755Reef/55duzYke6EwWazMWPGjCzfLNTb69dTvK7RJpDAYhbz4+XHNrYhRBRRVKc6VahC8cuPEpQghhjyk/+m7+vAwWEOs4997Gc/BzjALnaxlrVsYhNJJBFGGLWpzUOXH5WodNP3feKJJ5g8efI1x2ev3IamUqVKvP/++9SvXz/7PxA/JMR61qft4xWsIIkkQglNa4plKMNt3EYMMZSkJEUoQsBVR7rOnTvH6tWrue+++65575Oc5AAH2M9+9l1+bGADa1nLKU4RQAAVqZi2j+/lXkII8fSPwCulpqby+eefM2DAAM6dO3fN7DYwMJAHHniAH3744Ybv4Wv16zHWXcL7P/GK1wRN0EN6SCEKkU02VVZl9VVfzdZsHdABt46frGSt0zp9qk/VQR0UqUghVEzF1FM9tUzL5JTzuu1Onz6t4ODg676lVLhwYX388cdyOBxuze1LHHJooRbqKT2lIioihIqoiLqoiyZogjZqo1KU4tYMcYrTdE3Xi3pRFVRBCIUpTE3VVJM0SRd0wa3j+4pTp06pf//+CgoKkt1uv+aLIfv27bvu9b5av55kWaN1yKH5mq+O6qgwhSlYwWqt1hqv8TqkQ1bFSsu2Sqs0VENVSZWEUGmV1mt6Tbu1O+11//nPfxQYGJjWYMPCwvTmm2/q4sWLFqb3Llu1VS/rZcUoRgjdrbv1lt7SWq21/C//Pu3TOI1TMzWTXXaFK1xP6Akt1ELLs3mDLVu26MEHHxSggIAA2Ww2DRkyRJJ/1K8nebzRJilJEzUxbUZxl+7SaI3WMR3zdJRM26RN6q/+ila0AhSgZmqm5c7lio2NTftL2LNnTx09etTqqF5jqZaqjdooQAEqpmLqrd5ap3VWx8rQKZ3Sx/pYdVRHCFVSJU3URCUr2epolps3b55uv/12ASpcpLDGp473+fpdoRUezeCxRntBF/S23la0ohWsYD2lp7RFWzw1vEukKlXf6BvdpbvEgkv/nLr7obu1efNmq6N5jTmao1qqJYTqqI5maZYc8q1DKOu0Th3VUUEKUnEV12iNVqISrY5lqTPJZ9R8dHMF5AuQfZ7d9+tX6D7dpwVa4JGx3d5onXLqS32p23SbwhWufuqngzro7mHdrtOrnVRtbjUh1EzNtE3brI5kqfVar4ZqKJtsaqEWWibfvw/aXu1Vb/VWmMJUWqX1nb6zOpLH/b1+XzjxgibOmWh1rFu2QAvUSI08Vr9ubbQrtEL/0D8UqEB1V3cd0RF3DmeJn/WzKquy7LKrt3rrjM5YHcmjjumYntbTClSgaqiGftNvVkdyuf3ar8f1uGyyqZ7qefUhEFcy9es6bmm0SUrSy3pZgQpUQzXUevn3XTdTlaqP9bEKqZCKq7gWaqHVkTxijuaosAqrmIrpS33p9yeQVmqlaqmW7LJrmIYpValWR3ILU7+ur1+XN9rN2qzqqq5QhWq0Rvt98V3tmI6ptVrLJpt6qIffXi50URfVW71lk01t1EYndfLmG/kJp5z6WB8rTGG6R/dou7ZbHcmlTP26p35d2mi/1tcKUYhqqqZ2KOeuzD5BE5RXeVVN1bRf/rXY907tVHmVV0EV1Lf61uo4ltmkTaqmasqjPJqlWVbHcQlTv5e4o35d0midcmqQBskmm17Ui26/8NwX7NZu3ak7Fa1ordRKq+O4xEItVAEV0N26W3/J3NEgSUnqoR4KUIDe0TtWx8k2U7/Xc3X93nKjTVSiHtNjyqVc+kSf3HIgf3JWZ9VUTRWiEE3RFKvj3JLP9Jnssqut2vrtIZHsGq3RClSguqqrzzUpU78Zc2X93lKjTVKSmqmZ8imfFmnRLQXxV6lKVW/1VqACNVmTrY6TLeM0TjbZNEiDctQxu6yYr/nKrdxqr/Y+c5LM1O/Nuap+s91ok5WslmqpCEX4zT+N3WmABihQgfpaX1sdJUvGa7wCFKChGmp1FK+3VEuVR3nUVm29fmZr6jdrbrV+s9VonXKqndopXOF+ed2ku/RWb9ll1zzNszpKpnyjbxSgAA3WYKuj+Iyf9bNCFaru6m51lAyZ+s2eW6nfbDXaYRomu+w55npRV3HKqSf0hPIpn9dfFrRO6xSmMP1T/7Q6is+ZrdkKUIA+0AdWR0mXqd/suZX6zXKj/VE/KlCB+lAfZnVTQ5dOPtRQDZVTOa/9FtlJnVSsYtVQDb3+n8DeapiGKUhB+lW/Wh3lGqZ+b0126zdLjXaf9imf8qmrumY5oFUcDodGjhypWrVqWR0lzQEdUGEVVju1szrKdZxy6iE9pBIqoeM6bnWcm3r99ddVoUIFhYeHK1euXCpdurT69u2rc+fOWZrLKadaq7UKq7DXrGzlS/X79ttvq1y5cgoJCVFYWJjKlSunQYMG6ezZs1ZHy1b9ZqnRNlMzlVM5JSghy+GssGPHDtWpU0eAqlSpYnWca/yoH4XwuovdJ2qiAhTg8WXksqt+/foaM2aMTp48qfj4eE2ZMkV2u10PP/yw1dEUr3gVV3E9rsetjiLJt+q3adOmevfdd3Xs2DGdO3dOU6dOld1u14MPPmh1NElZr99MN9opmiKbbPpFv2Q7nCetX79erVu31qRJk1S1alWva7SS1FmdVVRFveYQwgmdUJSi1Fu9rY6SaU2bNlVq6rWXU7Vt21aA9u+3/lt53+t7ITRXcy3N4Wv126pVKyUkXPsLoU2bNgJ06JC1C4tfkZX6zVSjjVe8iqiIntbTtxzOCvfcc49XNtrjOq5IRaqP+lgdRZLUVV0VoxjFK97qKLfk2WefFaBt27xj6co2aqNSKmXZmra+Xr9X9OnTR4B27PCOrwdnpX4D0rmN2HXGMpaLXOQd3nH5PcuyauzYseTOnZuwsDBmzZpF48aNiYiI4LbbbmPy5MlWx8uSSCJ5gzf4L//lEIcszbKTnXzJl7zDO4QTbmkWuLX9fPDgQUJDQylVqpSH0t7YKEZxmMOMZ7wl4/tL/e7cuZN8+fJRokQJD6W9sSzV7806cYISFK1ovayXXfJbwBUGDhwoQL/88ovOnj2rY8eOqW7dusqdO7eSk6+/9Yi3zmilS2cxi6mYXtJLlubopm66Xbd71beasrqfJenChQsKDw9X797edfijl3qpuIp7/NY4vl6/ycnJ+uuvv/TBBx8oODhYX375pUWp05fZ+r1po31P7ylMYToq77kf1pUddfUxnDFjxgjQrl27rnu9NzdaSRqpkcqt3Jad5Y9TnOyy63N9bsn4Gcnqfr6yTdmyZRUf712HP/Zqr+yya4ImeHRcX6/fwoULC1DBggX13nvvZfgL1kqZqd+bHjr4mI95gicoRKFbm2e7Wa5cuQBISUmxOEnW9aAHQQQxiUmWjD+e8UQRRSc6WTJ+VtxoP0+fPp2pU6fy448/Eh5u/eGPq5WkJG1py8d87NFxfb1+Dxw4wLFjx/j666+ZOHEi1apV49ixY1ZEzFBm6veGjXYjG9nCFp8oQF+Wm9y0pCVTmGLJ+FOZSlvaYsduyfiu8M033/D222+zaNEiSpYsaXWcdHWkIytZSRxxHhnPH+rXbrcTFRVFo0aN+Oabb9i8eTNvvvmm1bGukZn6vWGjncpUbuM2alHL5eGMa7WlLatY5bEivGIDG9jKVtrS1qPjutIHH3zApEmTWLhwIUWLFrU6ToYe5EHyk5/v+M4j4/lb/d5+++0EBgayefNmq6Nc52b1e8NGO5OZPMZj2LC5I5txlQd5kHzkYxazPDruTGYSQww1qenRcV1BEv3792fjxo3MnDmTPHnyWB3phuzYaUlLZjLTI+P5av2ePHmSjh07Xvf8zp07cTgcxMTEWJDqxm5Wvxk22nOcYwtbaEADd2UzrmLHTi1q8Tu/e3TcVayiHvV8rhgBtmzZwvDhw/nkk0+w2+3YbLZr/nv33XetjnidetRjDWtIwb3nEny5fnPnzs1PP/3EwoULiY+PJyUlhXXr1vHEE0+QO3duXnrpJasjXuem9ZvRWbJFWiSEDuiAO07UZduYMWMUFhYmQGXKlNHu3bs1btw4RURECFCJEiW0Y8cOrVixQnXq1FF0dLQAASpSpIhq166txYsXW/0x0jVYg1VWZT06ZiEV0kiN9OiYmZGZ/Tx9+vS0fZvefyNGjLD6Y1xnozYK4fY7y/p6/bZo0UKlSpVSnjx5FBwcrNKlS6t9+/bauHGj1R8hQzeqX5skpdeARzKS4QznCEdc2vmNjM1mNi1pyWlOk5e8bh/vAAcoTnGWsIS61HX7eAY4cJCXvLzP+zzJk24bx9Sv592ofjM8dLCLXVSggtvDGf9TgQoIsYc9HhlvF7sAKE95j4xnQCCBlKUsO9np1nFM/Xrejeo3w0Z7ilMUpKBbgxnXuvLzPsUpj4x3ilPYsFGAAh4Zz7ikAAU4zWm3jmHq1/NuVL8ZNtrTnCYf+dyXyrhOPvIRQIDHGu1pThNOOIEEemQ845ICFHD7Pjb163k3qt8MG+1Zzpod5WEBBBBBBGc445HxznDG7GML5Ce/22e0pn4970b1m2GjtWMnmWS3BjOul0QSucjlkbFykcvsYwskkUQwwW4dw9SvNTKq3wwbrSeOIxnXSiSRBBI8dszUEzMr43qnOOX2fWzq1/NuVL8ZNlpvKMKhQ4dyxx13EBERQXBwMLfffjv9+vXj/PnzbtkOYNmyZdSpU4ewsDCio6Pp378/SUlJrvpIN3Tl2I6nGm0BCpBEEgkkeGS89LzzzjuUL1+e0NBQcufOTfny5Xn11VeJj4+/4Xa+uo/h0vHT/OR36xjeUL9/l5iYSPny5Rk0aFCmXu90Ohk1ahS1a9fO9BheW78ZXXz7L/1Ld+kuN13amznZvR9UdrfbtGmTQkND9eqrr+r8+fNavny5IiMj1a1bN1d+rAyt1VohtE2euTPASq0UQnu0xyPjpSe794by1X0sSWVURkM11K1jeEP9/t1LL70kQAMHDrzpa7Nzvz+r9+2N6jfDRjtRExWsYI8vVHy17N4PKrvbtWvXTqVKlZLT6Ux7bsSIEbLZbNq6dWs2P0XmfapPFaYwj93i+4IuKFCBmqZpHhkvPdm9N5Sv7uOzOqsABbj9ppzeUL9X++2339SoUaNMNdrs3u/P6n17o/rN8NDB3dxNEklsYpPr59iZNHfuXAIDr730KDIyEoCLFy+6dLvU1FTmzZtH/fr1sdn+973/xo0bI4lZs9y/2Msa1lCNagQR5PaxAMIIoxzlWMMaj4yXnunTpxMSEnLNc8WKFQO44WEAX97HTpzczd1uHccb6veKhIQE+vbty+jRozP1+ipVqjBt2jQef/xxgoMzd9LQW/ZtRvWbYaMtRzlyk9vtRbh48WJq1KhBWFgYERERVKpU6YbH57J7P6ibbbdnzx7Onz9P8eLFr3m+dOnSAPz5559ZGi871rCG6lR3+zhXu4u7WM1qt46R1X2c3XtD+cI+XstailCEorh3OUdvqt+BAwfy3HPPERUV5bYc3rBvb1S/GTbaQAKpS13mMc9twS5cuECLFi147LHHOHXqFDt37qRs2bIkJ6d/WcrFixdZuHAh3bt3T1uRPTMys92RI5e+E/73lflDQkIIDQ3l6NGjmR4vO45whDWs8fhqSw1owFKWco5zbnn/zO7jlJQUDh48yIcffsiCBQv44IMP/G4fA8xjHvWp7/ZxvKV+f/vtN3bv3p3usoeuZPW+vVn93vDfqG1pSy96cZazblnkJC4ujvj4eCpWrEhISAghISFMmzYtw9e/+eabREdHM2zYsCyNk5ntrpyZ/Ps/R+HSKu8JCe49M/8d3xFGGI1p7NZx/q4VrehFL2Yzm8d53OXvn9l9HBMTw9GjRylYsCDDhw+nXbt2WRrHF/bxEY6whCV8y7duHecKq+s3ISGBPn36MHOm+9fftXrf3qx+b7jwdytaIcRsZrslXGxsLIUKFaJTp04MGTKEuLi4DF+b3ftBZXa7K8cJU1NTr/uz5ORkQkNDMz1mdkxlKi1oQSjuHefv8pOfB3iAqUx1y/tndh/fyr2hfGUff8u3hBHGwzzs1nGusLp+X3nlFXr06JF2zN2drN63N63fm51Ja67mqq/6Lj9Dd8WmTZvUrFkzBQUFyWazqV27drp48eI1r5k8ebL+8Y9/6ODBg1l676xst2PHDgEaNGjQNc9fuHBBgDp16pSlsbNiq7YqQAGardluG+NGvtAXyqVcblu7NDP7+GpX9sU///nPm763r+xjp5yqpmrqJPeNkR6r6nfp0qW6//77r7kC4Pjx45m+vOuKzN7B2tvr96aN9soCwku11KXh/u7YsWMaMGCAAA0d+r9rDN9//301bdpU586dy9L7ZXW7lJQUhYeHq3Pnztc8v2HDBgEaPnx4lsbPiif0hMqrvBxyuG2MG0lWsoqruPqoj1vHyWgf/53T6VRgYKAeeOCBG76fL+3juZorhFZrtdvGSI9V9du1a9cbLsoO6I8//rjp+2a20Xp7/d600UpSXdVVYzV2WbArDh48qM2bN1/zXPXq1dW+fXs5nU7169dP3bt3V0pK5q8rze520qXr8EqUKCGH438/sLfffls2m03btrnnSwT7tE922TVRE93y/pk1WqMVpjAd1VGXvu+N9vGJEyfUoUOH67bZvn27gAwvNPe1fSxJdVRHzdTMbe9/I1bUb3rcOaOVvLt+M9Vo52u+bLLpN/3mknBX/PHHH6pbt662bt2qpKQkrV27VgULFtTo0aO1adOmTN2mpF27dipUqJDWrFkjSdne7sq2ISEhGjRoUNo3SwoWLOjWb5Z0UzeVUimPfUkhIxd0QYVUSC/qRZe+7432cUJCggoWLKhffvlFZ8+eVXJystauXauaNWsqd+7cabct8fV9/L2+F0LLtdxtY9yIFfWbnvQabXr76GoZNVpv2beZrd9MNVpJaqRGulN3KklJtxzuiri4ONWuXVv58+dXYGCgihYtqoEDByo1NVUbN27MVDG1atVKgAYPHixJ2d7uisWLF6tGjRoKDg5WdHS0+vbtq8TERJd95qst0iLZZNO3+tYt759V4zROgQp06T9vb7SPJWXq3lC+vI8v6IJKq7Taqq1b3j+zPF2/6Umv0aa3jzJzvz9v2LdZqd9MN9o4xSmP8ugNvXFL4VzN4XCobt26+uyzzzyynaskKlEVVEFN1MSS8dPjlFMN1VBVVMVrvrop+e4+lqR/69/Kq7z6S39ZlkEy9etqWa3fTDdaSRqhEQpRiDZoQ7bCuVpqaqqmTZumqlWr6sKFC27fzpX+rX8rXOHar4y/l2+FbdqmYAVrmIZZHUWSb+/j5VquIAVpnMZZMv7fmfp1nazWb5YabYpSVF/1FatYndTJbAV0pQULFqhjx446fPiwR7ZzlamaKptsmqAJlox/M6M1WoEK1A/6weooPruPD+mQiqqomqmZnHLefAMPMPXrGtmp3wxvN56Rk5zkH/yD0pTmB34w95vKoq1spSY1eYIneJ/3rY6ToSd5kpnM5Hd+53ZutzqOT0khhfu5n6McZRWrvOqWMqZ+b0126zfLjRZgNaupS12e5mne531s2G6+kcFBDlKPetzGbSxgAXbsVkfKUAIJ3Mu9JJHEIhYRSaTVkXyCEyfd6MYMZrCSldzBHVZHuo6p3+y5lfq94VdwM3I3dzOJSfyX//Iv/pWdt8hxDnOYhjQklFC+4zuvbrIAoYQyi1kkkMADPMBJTlodyesJ0YMeTGEK3/KtVzZZMPWbHbdcv7dyrOJbfasgBbn82kt/c1RHdYfuUFmV1SFlvJi1N9qv/YpVrKqqqk7ohNVxvJZTTj2rZ5VLuSz7KnVWmfrNHFfU7y01WunSgeEgBelJPenSa/T8xQ7tUDmVUxmV0UFlba0Gb7FP+1RKpVRWZbVd262O43USlahO6iS77JqpmVbHyRJTvzfmqvrN1qGDq7WhDXOYwzSm0ZCGHCNzKy7lBD/zMzWoQQEKsJSlbl/s2V2KU5xlLCOCCGpTm0UssjqS1zjMYepRj3nM4wd+4BEesTpSlpj6zZhL69dVnf9P/amSKqnSKq21Wuuqt/VJDjk0QiMUpCB1URclyj3fTPG08zqv1mqtXMqlj/SR11y2ZJXlWq4YxaisymqHdlgd55aY+v0fd9SvyxqtdOlYRgM1UC7l0jANU6rS/yqeP4tTnO7TfbLLruFy34pBVnHKqcEarEAFqoma6LCsuZbRSklK0it6Je1ncEqnrI7kEqZ+3Ve/Lm200qXfBu/qXYUoRLVUy2O3zraaU059ps8UoQjdoTu0RukvkuEvlmmZSqu0IhWpb/SN1XE8Zr3Wq6qqKrdy++Ws3tSve+rX5Y32io3aqGqqJrvselEv+s1v/fSs0Ardo3sUoAC9qBeVoISbb+QHzumcuqu7bLLpPt2ndVpndSS3Oaqj6qmeClSgaqu2dmqn1ZHcytSva7mt0UqXvvL3kT5SlKJUUAX1oT70qzObe7VXHdRBNtnUQA1y7LGt5Vqe9hf1aT3ts1dXpOeiLmq4hiuv8qqYimmCJli2QLunmfp1Hbc22ivO6Zxe02sKUYgKq7Be02s+/RtyvdarszorSEEqruKWL9rtDZxyaqqmqqRKKpdyqbM6a5M2WR0r287ojEZrtKIVrVCFqr/6K17xVseyhKnfW+eRRnvFAR3Qv/VvRVx+/Fv/1lZt9WSEbEtWsmZplh7Ug0KoiqroS33pVcsJeoNEJeoTfaJyKqcABaiFWmi+5vvMiZUN2qDn9bxyK7cKqIAGaZDL7zrhq0z9Zp9HG+0VZ3RGb+ttxShGCNVQDX2gD3Rcx62Ic0N/6A+9oBcUpSgFKEAP6AH9oB/87iSIqznk0AzNUF3VFUJFVVT/1r/1p/60Otp1Duuw/qP/qIqqCKHSKq3RGq1zytp96nIKU79Zl61FZVzFiZPlLOdLvmQyk7nIRapSlQd4gGY0oza1CcjecgzZdoELrGAFC1jAbGazla2UoxztaU8XuhBLrEfz+IP97Gcyk/mUT9nFLmKJ5YHLj4d4iAgiPJrHgYP1rGfB5cdiFhNGGC1oQRe6cD/3m4VWMsHUb+ZZ2mivdoELzGUuP15+HOIQUURRm9pUv+rhym9XpZLKFraw9vJjDWv4nd9x4uQu7qIRjWhOc+7hHpeNmZMJ8Ru/MY95/MiPrGc9ucjFPdxzzT4uT3mXLt93gANp+3gta/mN3zjNaYpTnEY04mEepglNCCXUZWPmNKZ+b8xrGu3f/cmf/MzPrGIVa1nLbnYDEEUUJShBDDEUpzglKEEkkYQQQgQRBBFEPvKRQgrnOc9FLpJEEmc5yyEOsZ/9HLj82MMekkgihBCqUIXqVKce9XiAB8yygB5wlKP8xE8sYxlrWMNGNpJMMqGEUopSafv5Nm6jKEWJIIIQQggllHDCCSKI05wmlVTOcY4EEjjOcfazn33s4wAHiCOOU5zCho0ylKE61alJTRrRiApUsPpH4LdM/V7Laxvt353hDGtZy2Y2pxXRAQ6wj32c4hSJJF56YTzwO1AHrp6g5CUvRShCzOVHcYoTSyxVqcod3EEQQRZ8KuNqKaSwiU2sZz1xxF2zn49ylHji//fic8AqoDYQdumpUEIpSMG0Qo4hhhKUoBKVqEpVjx+iMP4n0/WbAV+vX59ptJkRTzy///E7D9Z4kN/2/kaFkhUII4xggq2OZrhIIokkkMDvG37n4aoP8/v23ylftjzhhFsdzbhF8cSTQgpnHjl+8wAAIABJREFUOUsQQYQT7jf1692/BrIoggjyOPIAcFvAbeQnv8WJDFcLufwoGnDpWF8eRx7TZP3ElX9xFKSgxUlcz7OnBD3A6XQCEBho7oXkz67s3yv72zC8md81WofDAUBAgN99NOMqV/bvlf1tGN7M77qRmdHmDGZGa/gSv2u0ZkabM5gZreFL/K4bmRltzmBmtIYv8btGa2a0OYOZ0Rq+xO+60ZUZjmm0/s3MaA1f4nfd6MoMxxw68G9mRmv4Er9rtGZGmzOYGa3hS/yuG5mTYTmDmdEavsTvGq05GZYzmBmt4Uv8rhuZQwc5g5nRGr7E77qRw+EgICAAm82skO/PzIzW8CV+12idTqeZzeYAZkZr+BK/60gOh8OcCMsBzIzW8CV+12jNjDZnMDNaw5f4XUcyM9qcwcxoDV/id43WzGhzBjOjNXyJ33UkM6PNOQICAsyM1vAJftdozYw25wgMDDQzWsMn+F1HMjPanMPMaA1f4XeN1sxocw4zozV8hd91JDOjzTnMjNbwFX7XaM2MNucwM1rDV/hdR7p6Rjt06FDuuOMOIiIiCA4O/v/27jyuyip/4PjnctlkcwFUFFHSbFFTDBMxsclKbTHNxB0dx1IbbXFyKadpWqYyp7L6ZWU5jtmoUWiWlkuSkQuGS7iWZC6IqCjIKnCB7++PR1wCZPE+97n3ct687ouE+zznezn05dzznOd7aNeuHdOnTycvL8/gKBVr+OOItqysjLfeeovIyMhKn79p0yZ69uyJl5cXQUFBzJgxg6KiIluFq9RjTpdoLx/RxsfHM3nyZI4cOcKZM2d45ZVXmDt3LkOGDDE4SsUaLh/RpqSkEBUVxdSpUykoKKjw3H379nHPPffQp08fMjIyWL58Of/5z3+YNGmSrcNW6iGnS7SXj2h9fHyYMGECTZo0wdfXl+joaAYNGsSaNWtITU01OFLlWpWPaJOTk5k5cyaTJk2iS5culT73pZdeonnz5rzwwgt4e3vTo0cPZsyYwX//+19++eUXG0eu1DdOl2gvH9GuWrWqwoWxgIAAgEpHPYpjKR/Rdu7cmbi4OEaOHImHh0eF55WUlLB69Wp69+59RfnM/v37IyKsXLnSlmEr9ZDTJdrqVh2kpaXRoEEDQkNDbRiVooearjr4/fffycvLIyQk5Iqvt23bFoDdu3frEp+ilHO6RHu1VQcFBQXEx8fzyCOP4O7ubuPIFGur6aqDkydPAuDr63vF1z09PWnQoAGnTp3SJT5FKVevEu0rr7xCUFAQL7/8so2jUvRQ0xFt+cqCyt7puLm5cf78eavHpiiXczU6AGsrKyur9H+o5cuXExsby7p16yqMbBTHVNMRraenJ6DN1f5RcXExDRo0sHpsinI5p0u05XuGXW7ZsmW8+eabbNy4kRYtWhgUmWJtNR3RNm/eHICcnJwrvl5QUEBhYSFBQUG6xKco5Zwu0f5xRPvuu++ydu1a4uPj8fHxMTAyxdpqOqINDQ3F19eXo0ePXvH13377DYBbbrlFl/gUpZzTJdryEa2IMHPmTLKysvjyyy9xdXW6l1rv1XRE6+rqyr333ktCQsIVc/jffvstJpOJAQMG6B2qUs855cUws9nM/v37ef311/noo49wc3PDZDJd8fj3v/9tdKjKNTKbzTUuKvPcc89x6tQpnn/+efLz89m6dStz5sxh7Nix3HDDDTpHqtR3TpdoLx/RKs7NxcWF0tJSEhMTuf3222nRogXbtm0jOTmZoKAgevbsSUJCAgAdOnRg7dq1rFu3Dn9/fwYPHsy4ceN4//33DX4VSn3gdO+ny0e0HTt2VMnWyZWPaCMiIti0aVO1z4+KimLbtm02iExRruS0I1rF+ZWPaBXF3jldRqpqHa3ifGozR6soRnK6RKtGtPWHGtEqjsLpMpIa0dYfakSrOAqnS7RqRFt/qBGt4iicLiOpEW39oUa0iqNwukSrRrT1hxrRKo7C6TKSGtHWH2pEqzgKp0u0akRbf6gRreIonC4jqRFt/aFGtIqjcLpEq0a09Yca0SqOwukykhrR1h81LZOoKEZzukSrRrT1R00LfyuK0Ry6etf69evZuXPnxX+bTCYKCws5e/Ys8+fPv+K54eHhdO3a1dYhKlaSmJhYYVvw/Px8AGbPnn3F1yMiIujdu7fNYlOU6jh0os3OzmbmzJm4ubldrEFbXhpxzZo1gDaVUFpaerEuqeKYzp49y4QJEzCbzRXesXz//feYTCbKysqwWCwX+15R7IVJHLhoa2FhIf7+/hQUFFz1eS1atOD48eOYTCYbRaZYW0lJCc2aNSMzM/Oqz2vYsCFnzpxRWxcpdsWhJzM9PT154IEHcHNzq/I5bm5ujBs3TiVZB+fq6srIkSNxd3ev8jlubm4MHTpUJVnF7jh0ogUYNmwYJSUlVX7fYrEwbNgwG0ak6GXkyJEUFxdX+X3V14q9cuipA4CioiL8/f0vXhi5nMlkolOnTiQnJxsQmaKH6667jsOHD1f6PX9/f06dOqWW9yl2x+FHtB4eHgwaNKjS6QOz2cy4ceMMiErRy9ixYyvta3d3d4YPH66SrGKXHD7RgjZ9YLFYKnxdRBg6dKgBESl6iYmJqXSqqLi4mOjoaAMiUpTqOfzUAWhzc/7+/uTm5l78mtls5q677lJLfZxQREQESUlJV9wVFhAQwKlTp9TNKopdcorfSjc3NwYPHnzFW0oRISYmxsCoFL2MGTPmilUk7u7ujBo1SiVZxW45xYgWYO3atfTr1+/ivz09PcnIyMDHx8fAqBQ9ZGZm0rx58yumi7Zu3UpERISBUSlK1ZxmCNCnTx8aN24MaCPc6OholWSdVJMmTejXr9/F9bLNmzene/fuBkelKFVzmkTr6urKkCFDMJvNWCwWRo0aZXRIio7GjBlDaWnpxRsZ1A0pij1zmqkDgA0bNnDXXXcRGBhIenq6WurjxIqLiwkICCA3N5ekpCTCw8ONDklRquQw9yrmkMNv/EYqqRzlKKmkcoITnOMcxRSTTTaWOyyYA8y4xLgQaY7EDz888KARjWhJS1rRita0phWtaEc7fFBTC3bp9Gk4cgTS0+H4cTh5Uvuck6M9Sktxz8lhqLs761xdufXRR8HFBRo2vPS5YUMIDobmzbXPQUHQpg0EBBj96pR6yC4T7XnOs4UtbGc7O9nJLnbxG78haIPvZjSjFa1oSUua0hR33GlIQ8xmMw2iG3Dj6Bvxx58cciiiiCyyWM96jnOcDDIAcMGF9rSnK10JI4xwwulBDzzwMPKl1y8WC+zYAcnJsHcv7NsHe/bAmTOXnhMQoCXJ4GAteV53HZjN4OfH6LQ0AtPSMHXvDiKQnQ1lZdrntDTYtk1L1pcXomnWDDp2vPQIC4MuXbRzKopO7GbqYD/7WcMa1rKWBBIopJBgggkj7GIyvImbCCEETzyrPM+RI0do06ZNld8/z3mOcpT97L+YxHeyk5OcxBtvetObfvSjL31pT3sdXmk9VlwMP/0EP/ygPbZsgfx88PODDh2uTIChodCiBXhU/YdPRDh27BitW7e+eruFhVri/f33Swl99244cADy8sDXF3r1gqgo6N0bwsNBFaZRrMjQRHuUo3x64eMXfsEff+7mbvrSl3u4hxa0sGks61jHWtbyHd+RTTYd6UgMMYxgBC1pabNYnEpBAXz7LSxfDqtWaW/9W7aEO+7QklpUFNxwgzGxiWjJtjzx//CDNk3RuDEMGAAPPQT33AOeVf9hV5SasHmiLaGEz/iM+cznR34kgACGX/joRjfMGP8WroQSNrOZpSwlllhyyOFO7mQCExjEIFycZ7GGPkpLtaT6ySewZg0UFWkjxocegnvvhbZtjY6war/+CqtXQ1wcJCaCt7cW89ixWtJVN0UodWCzRJtPPh/zMW/xFmmkMZCBjGEMfemLG1XXkzVaEUWsYhX/5b98wze0pS1P8zQxxFx1CqNeSk+Hjz+Gjz7S3qr36QNDhsDAgRAYaHR0tXfiBKxYAZ9/DgkJ2nTGo4/CuHGO+XoU44jOCqVQXpPXpIk0EW/xlikyRQ7LYb2b1cUv8ouMl/HiIR7STJrJO/KOFEux0WEZb98+kWHDRNzcRAIDRaZPFzl0yOiorOvAAZEnnhBp1EjEw0Nk7FiRlBSjo1IchK6J9nP5XEIlVLzES56T5yRDMvRszmbSJV3+Jn8TD/GQG+VGWS2rjQ7JGPv3iwwfLuLiItKpk8inn4oUFhodlb7y80UWLBC54QYRV1ct4TrbHxXF6nRJtAfloERJlJjEJKNltKRKqh7NGO6QHJLBMlgQpJ/0k6Ny1OiQbCM9XSQmRkuwHTqIxMaKlJYaHZVtlZSIfPKJyPXXayP5Rx8VOXPG6KgUO2XVmX1B+IAPCCOMXHLZxjY+4ROCCbZmM3bjOq7jC75gIxs5ylFu4RYWs9josPRTWgrvvQc33aTNWf7vf9oyqSFD6t9FIrMZRo+G/fth/nzt4t+NN8J//qOtZlCUy1krY5+Uk9Jf+otZzPKsPCtFUmStUzuEAimQx+VxMYlJHpaHJVMyjQ7JunbtEgkP10ZvM2dqb6GVS7KztTlcs1mkZ09t3lpRLrDKMCSZZG7jNn7lVxJI4F/8C3eq3q3UGTWgAW/zNutZTyKJRBDBQQ4aHda1E4F33oGICGjQAH7+GV59Fby8jI7Mvvj5wdy5kJSk3fHWrRssWGB0VIqduOZE+y3fEkUUIYSQSCKRRFojLofVhz7sYhfNaEYEEXzHd0aHVHfZ2TB0KEydCjNnwvffw803Gx2VfQsLg82bYdo0bSnYww/DuXNGR6UY7JrW0c5jHlOYwnjG83/8n12vh7W1Qgr5C38hllgWspBROFjZxn37tIX6ItpcbK9eRkfkeNatg5gYrUbDN9/Y940aiq7qPKL9kA+ZzGRe4iU+5EOVZP/AE08+5VOmMpWxjGUpS40OqeY2bdISa5s2sGuXSrJ1dc892s/Pzw969oSdO42OSDFInRLtQhbyGI/xIi/yLM9aOyanYcLEbGYzjWmMZjRLWGJ0SNX76istQURFabfP+vsbHZFjCwqCjRuha1ettoPaLLR+qu3Vs6/la3ERF3lenrf6lTln9qQ8KW7iJhtlo9GhVG3lSm0R/oQJ2jpRxXqKikRGjNDuKtuwwehoFBur1RztQQ7Sne4MYACLWKRn/nc6gjCMYWxgA0kkEUqo0SFdads2rTbByJHw4YdGR+OcRLTiNCtWaJXCwsKMjkixkRpPHeSSy0M8xA3cwHzm6xmT1RUWFnLjjTfy97//3bAYTJhYwAKCCOIhHqKAAsNiqWD/fu3C1513ajckOJiXX34Zk8lU4dGxY0ejQ7uSyaQV3enRA/r2hZQUoyNSbKTGifZxHucsZ4kjzuF2IZg1axa//vqr0WHggw8rWMERjjCLWUaHo8nN1WqvdugAsbGq4LXe3Ny0amDBwdrSr8JCoyNSbKBGifYHfmARi5jHPIcrgL1lyxb27t1rdBgXtaMdb/AG7/AOiSQaHQ5MnqwV446NdegC14sXL0a02h0XH/bU71fw89Pq3R45As88Y3Q0ig1Um2iLKGIiE7mXexnEIFvEZDXnz59n2rRpzJ071+hQrvBn/syf+BMTmIAFi3GBxMXB4sXaHUzNmxsXR30UGqpN07z9tlYnQXFq1SbaN3iDNNL4gA9sEc9VzZs3D29vb7y8vFi5ciX9+/fHz8+P4OBgli6tuE511qxZ/PWvfyXQzoo0mzAxj3kc5KBx891nz8Ijj8CkSfDAA8bEUI3a9rfDGTUKRozQ7iDLyzM6GkVPV1uSkCd5EiiB8pw8p//6hxqaNWuWALJhwwbJzs6W06dPS69evcTb21uKiy8V4d60aZMMGDBAREQyMjIEkFmzZhkVdqWmyBRpJa2MKcDz1FNake7sbNu3XQs16e+XXnpJgoODpVGjRuLm5iZt2rSRBx98UH766SeDo6+BjAyRhg1FXnjB6EgUHV11RPsBH1BAAVOYYpOkXxuRkZH4+fkRGBjIsGHDyM/P59ixY4A2ZfDkk08yb948g6O8uulM5xSnbF9a8cgRmDcP/vlPbb7QAVytv8eMGcNXX31FamoqeXl5LF26lGPHjtG7d2/27dtncOTVCAjQ6iLMmaNtDKk4pSoTrQULb/ImE5lIIPb11vuP3N21SmEWizbf+eyzz/Loo4/SsqV9X7gLJpgYYpjNbAQb1jD95z8hJESbOnBAf+zvVq1aERYWho+PD+7u7kRERLBw4ULOnz/Pe46wXO2pp7Q/eK+9ZnQkik6qTLQb2EA66Uxmsi3juWabNm1iz549jB8/3uhQamQyk0khxXYrELKy4LPPYPp0bamRk+rUqRNms5mDBx2gVKWXl5ZsFy2C8+eNjkbRQZWJ9jM+ozvdaUMbG4Zz7RYsWMCGDRtwcXG5uHC9/GLYv/71L0wmE9u3bzc4yks605mbuIlYYm3T4JIl2u4AQ4fapj2DlJWVUVZWhoeHg6z5jomB/HztrjHF6VSaaIsp5iu+IppoW8dzzRYuXFhhPWVGRgagrUIQEcLDww2O8kpDGMJnfEYZZfo3tnAhREeDr6/+bdlI3759K3wtKSkJEaFHjx4GRFQHTZvCffdp/aM4nUoTbSKJZJLJQAbaOp56aRCDSCedPezRt6HUVNixQ6tn4ETS0tJYtmwZ586dw2KxsHXrVsaPH09ISAiTJk0yOryaGz0a4uNVoXBnVNlShDfkDWkmzWy39qGG3nvvPfHy8hJArr/+ejl06JDMnz9f/Pz8BJDWrVvLwYMHKxxnr8u7ypVIiXiLtyyQBfo2tHSptueXg+z3VdP+/tvf/iZt27YVb29vcXV1leDgYHnkkUfkxIkTRr+E2snIEDGZRL791uhIFCurtHrXSEZyjnOsZrWN03791ZOedKEL76HjVfInnoCtW+Gnn/RrQ7k27dvD8OHwwgtGR6JYUaVTB7vYRVe62jqWei2ccHaicwX+xEStcpRiv3r00P4YKk6l0kR7nOMOt9rA0bWmNWmk6dvIsWNq3yp7166d1k+KU6mQaEsoIY88GtPYiHjqrcY0JossfRvJzFRb09g7f3+tDoXiVCok2nOcQxCVaG2sMY3JI49iivVpIDcXiotVorV3/v7aTSVlNljqp9hMhUSbh1ZFyBtvmwdTn/mirWst//lbXW6u9tnHR5/zK9bh5welpdrNC4rTqJBo/dCKjOSSa/Ng6rNssoFLCdfqGjbUPufk6HN+xTrOndN2uVB/EJ1KhUTbkIa44KL/fGE1rLUPVG33CysrK+Ott94iMjKyLmHXWRZZ+OGHGzrVH/D21nZQsJP5vzvuuKPS/jWZTPjUIMlcrZ9efPFFbr75Zvz8/PDw8KBdu3ZMnz6dvGpqvtb1OKs6exaaNNH2F1OcRoVEa8aMH36GJ1prqc1+YSkpKURFRTF16lQKCmy7eWImmfrPizdpYjeJ9mpuv/32q36/un6Kj49n8uTJHDlyhDNnzvDKK68wd+5chgwZctXz1vU4qzpzRiudqDiVSnfiCyaYwxy2dSwVLF68mFGjRtX5+NrsF5acnMyLL77IpEmTyM/Pp5L7OHR1hCMEE6xvI23agJ1Us/L09CQnJwffP9RcmDhxItHRVdfYqEk/+fj4MGHCBMxmMwDR0dHExcURGxtLamoqrVq1qvTcdT3OqlJSoHVr/dtRbKrSdbRd6coOdtg6Fquq7X5hnTt3Ji4ujpEjRxpS8Wk727mVW/VtxI4Ww69Zs6ZCkk1NTWXv3r3ceeedVR5Xk35atWrVxWRZLuDCKPFq71TqepxVbdmibipxQpUm2lu5le1s170Y9Q8//MBtt92Gl5cXfn5+dOrUiRwrXayx1/3CKmPBwm522ybR7tljswtite3f1157jSeeeEKXWNLS0mjQoAGhoaE2Oa5OTpzQdr+w8fUBRX+VJtpwwskkkxRSdGs4Pz+fAQMG8PDDD5OZmUlKSgrt27enuPjSOtJnnnmGxo0b4+7uTmhoKAMHDiQpKanac2/evJlDhw4xYsQI3eK3pp/5mUIK9U+0kZHa0qHNm/Vth5r17+XS0tLYuHEjgwcPtnosBQUFxMfH88gjj1zcnUHP4+osIUGrFXzbbfq3pdhWZZVmLGKRptJUXpVXdatms3fvXgFk1apVlX7/2LFjsnPnTsnNzZWioiLZunWrhIWFSYMGDWTv3r1VnregoEDCw8Pl+PHjIlK3yl3du3eXzp071+4FXYMZMkNCJVTKpEz/xiIjRUaM0L2Z6vr3jyZPnizvv/9+rdqoaT/NmjVL2rdvLzk5ObU6f12Pq7P+/UXuvdc2bSk2VeUuuBNkgnSRLro1XFBQIE2bNpVGjRrJ888/L4cPH672mJ9//lkAmTRpUpXPefLJJ2X+/PkX/+0IibattJUZMsM2jX30kYinp0hmpq7N1KZ/09LSJCQkRM6fP1+rNmrST3FxcXL99dfX6PfLGsfV2fHjImazyOef26Y9xaaqTLQbZIMgyC/yi26N7927V+6//35xdXUVk8kkQ4cOlYKCgiqfX1paKmazWfr06VPp93/88Ufp06ePlJVdGhnae6L9SX4SBNku223SnuTkiHh7i7z7ru5N1bR/H3/8cXnppZdqff7q+mnp0qXSrVs3SUtLq9V563rcNXn5ZZGAAJEiA7aeV3RXZaItkRJpI23kMXlM9yBOnz4tM2fOFEBefPHFKp9nsVjEZDLJvVW8vRo7dqwAV30kJSVVG48tE+1IGSkdpaNN2rpo4kSRkBCRWo4g6+pq/Zueni4BAQFy9uzZWp/3av30zjvvyH333Se5ubm1Omddj7sm2dlakp0503ZtKjZV5eaMZsxMYxoLWMAJTlh9bvjEiRPs378fgMDAQF599VW6du168Wt12QfK0fYL+53f+YzPeIZnbNvwP/6h3bjw7ru6NVFd/5abPXs2o0aNokmTJlZpV0SYMWMGe/bs4csvv6zRXWbXcpxVzJ6tXaScNs12bSq2dbUsXCiF0kJayNPytNUzfFJSkvTq1UsOHDggRUVFsnPnTvH395e5c+eKiEiHDh1k6dKlkpWVJcXFxbJlyxa5+eabJSQkRM6cOSMiIkOHDpWmTZvKjh07qmynsqmD6o6z1Yh2vIyXttJWLGLRva0KnntOpFEjkQs/S2urrn9FRE6ePCl+fn5y9OjRSs9Rl34qvwhX1WPOnDmVnrumx1ldWpo2lfPGG/qcX7ELVY5oATzwYBrTeI/3OMQhqyb4wMBASktLiYyMxMvLi/vvv5+JEycyefJkAPr168ff//53goOD8fLyIjo6mp49e5KYmIj/hVJ/xcXFnD59mpUrV9aq7cqOS0xM5Pbbb6dFixZs27aN5ORkgoKC6NmzJwkJCdZ74RfsZjeLWMQsZuFa+Q16+po2Tat9MHWqLqevrn8BXn/9dQYMGEBISEil56hLP0kN7+j747lrepzVPfaYtgPuY48Z075iG9VlYotYJEzC5A65wzbLj2qhtLRUevXqJQsW1G5Tw7oeZy2lUio9pId0l+5SKqWGxCAi2iaAJpPIkiXGxXAVevaT0b8DIiIyb56Ii4vI998bF4NiE9UmWhHtyrhZzLJIFukdT42VlJRIXFycdOnSRfJrsatrXY+zprflbXEXd9krVa8HtpnJk0UaNhSx1TKmGtKzn+zhd0D27RPx8hL5xz+MaV+xqRolWhGRKTJFGktjSZEUPeOpse+++05GjBgh6enpNjnOWpIlWbzFW56T5wxpv4Lz50U6dhQJC9OuftsJPfvJ6N8BycgQad9epEcPEYsB8/OKzVW63XhlCikkiihyyWUb2y4WCFdqLpNMbuM2gghiAxtwxwa3ddZEair07Klt3LhmDRhQVKfeKCiAu++G9HStgEzz5kZHpNjAVS+GXc4TT+KII5NM/sJfdC8442xKKWU4w7FgIY44+0myAK1awddfw65dEBOj9qvSi8UCQ4ZopRDXrlVJth6pcaIFaEUrYollJSt5nMdVsq2hMsoYxzh+5EeWs5ymNDU6pIo6d4aVK+Grr2DYMCgqMjoi55KfDwMHaoVjVq+G6683OiLFhmqVaAF605tlLONDPuQpntIjJqciCI/xGMtYxud8rn+FrmvRuzfEx2uPfv0gO9voiJxDZib07QuJidpItls3oyNSbKzGc7R/9DmfM4IRTGEKb/AGJtQeR39USikTmMCnfMoKVtCf/kaHVDN79miJNjBQm1Kwxc4CziolBR54QNvqfe1aNZKtp2o9oi03hCEsZjHv8R5DGEIBtt1jy97lkMP93M8SlhBHnOMkWYBOnbQLNSUlEBamJVul9pYtg/Bw8PXVfp4qydZbdU60AMMYRjzx/MiPRBLJMY5ZKy6HdpjDRBJJMsn8wA/cx31Gh1R7rVvD9u0wciQ8+CA88YQ2KlOqV1io/byGD9fmuzdtUhe+6rlrSrQAPenJFrZgwUJ3uvMN31gjLof1BV/QjW544MFP/EQ3HHg+ztMT3n4bFi+GhQu1yv92sueY3fr+e+1dwOLFsHw5fPihWi6nXHuiBWhLW7awhT704X7uZyITySPPGqd2GOc4xyhGEU00gxlMAgn672prKyNHws6d2pzt7bfDo49qF3iUS06dgtGjoU8faNdOWyo3aJDRUSn2wtp3QMRKrPiLv7SVtvKtfGvt09ulOImTYAmWIAmS1bLa6HD0tXSpSFCQSGCgVjy8sNDoiIyVny8yZ45WCa11a5EvvzQ6IsUOWT3RioickBMySAYJgvSX/rJf9uvRjOF2yA7pLb3FJCYZJaPkjOhTctDuZGeLTJ2qbYnTqpVWHKW+7QxQUCDy5psizZppZQ6ffVYkL8/oqBQ7pUuiLRcv8dJFuoiruMokmSS/y+96NmczB+SAjJEx4iIu0kN6SKIkGh2SMdLSRKZMEfHw0HZseOstkawso6PS1+nTIrNna6O6F0IOAAADcUlEQVR6b2+Rp5/WvqYoV6FrohXRSgJ+LB9LG2kjruIqw2SY7JCqC3Xbs82yWR6UB8VFXKS9tJclssTuSkcaIjVVqwLm66tVpPrzn0W2bTM6KutKSNB2D/bw0KYJnn5a5NQpo6NSHESdb1iorRJKiCWWOczhZ34miijGMpbBDLbrAjVZZLGMZSxiEdvYRgQRTGMaAxmIi3WuJTqP3Fz43//ggw8gOVm7rTc6GgYPhhtuMDq62tuzB+LiIDYWDhzQ7uiaOFFbsuXlZXR0igOxWaK93HrWM5/5fM3XmDEzkIGMYAR/4k94YfwvcC65rGc9S1jCKlZhxswgBjGBCfSil9HhOYatW+GTT2DFCu2KfMeOWsLt3x9uvRVcDdhVojoWCyQlabUIvvgCDh6Eli3hoYdgzBgtbkWpA0MSbbkssogllsUsZgtbcMedXvTingsfHemIGbPucZRQws/8zLoLH1vYQimlRBFFDDE8zMP44qt7HE6ptBQ2b9YS14oVcPw4+PhoZRmjorT6CmFhxowQ8/K0ZWsbN2rFXrZu1coYtmmjJdeHH4bu3cFFvXNRro2hifZyJznJOtaxlrWsZz0ZZOCFF53pTNcLHzdxE61pTXOa1+lteymlpJPOUY6yn/3svPCxm90UUkgQQReT/N3cTSCBOrzSeu7AAS2pJSRoCe7ECS2RXXcd3HILdOig3QIcGgotWkCzZmC+hj+2JSXaiDotDQ4fht27Ye9e7XH4MIhASIiW8Hv31pK/ulVWsTK7SbSXK6OMPexhx4WP8mRYXk/BDTeCL3w0pCENaIAvvrjhRiMakUUWFizkkUcBBWSTzTGOcYITlFACgA8+dKHLxSQeTjg3c7MqjmNrv/+uLe7ft0+bE92zB377TRsJg5ZkmzWD4GDw84PGjcFkgkaNtATdsCGcO6clzKws7fO5c9p/nzihJdny+rpubloS7djxUlIPC9NuN1YUHdlloq1MCSWkkUYqqRzlKKmkkkYaOeRwnvPkkksxxWSTTSMa4Y47PvjghRd++BFMMK1oRciFj5a0VBez7FVRkTbFkJ6ujUTT07V/5+ZemUxLSyEnR0u2Li5aEi5Pvg0bavOrLVpcerRsCe52VHBdqTccJtEqiqI4KjWkUxRF0ZlKtIqiKDpTiVZRFEVnrsB8o4NQFEVxZv8Py5WTeiV9DFUAAAAASUVORK5CYII=\n",
         "text/plain": "<IPython.core.display.Image object>"
        },
        "metadata": {},
        "output_type": "display_data"
       }
      ]
     }
    },
    "08d98068eaa84591a986efedb0bdd715": {
     "model_module": "@jupyter-widgets/controls",
     "model_module_version": "1.5.0",
     "model_name": "IntSliderModel",
     "state": {
      "_dom_classes": [],
      "_model_module": "@jupyter-widgets/controls",
      "_model_module_version": "1.5.0",
      "_model_name": "IntSliderModel",
      "_view_count": null,
      "_view_module": "@jupyter-widgets/controls",
      "_view_module_version": "1.5.0",
      "_view_name": "IntSliderView",
      "continuous_update": true,
      "description": "idx",
      "description_tooltip": null,
      "disabled": false,
      "layout": "IPY_MODEL_12fcfb5ffc58488ba8d356a7c4a775e4",
      "max": 5,
      "min": 0,
      "orientation": "horizontal",
      "readout": true,
      "readout_format": "d",
      "step": 1,
      "style": "IPY_MODEL_8db7617a2f3849149ebddd4d1f6da761",
      "value": 5
     }
    },
    "0a1a28763ae54cfcbdf299b2514f4556": {
     "model_module": "@jupyter-widgets/base",
     "model_module_version": "1.2.0",
     "model_name": "LayoutModel",
     "state": {
      "_model_module": "@jupyter-widgets/base",
      "_model_module_version": "1.2.0",
      "_model_name": "LayoutModel",
      "_view_count": null,
      "_view_module": "@jupyter-widgets/base",
      "_view_module_version": "1.2.0",
      "_view_name": "LayoutView",
      "align_content": null,
      "align_items": null,
      "align_self": null,
      "border": null,
      "bottom": null,
      "display": null,
      "flex": null,
      "flex_flow": null,
      "grid_area": null,
      "grid_auto_columns": null,
      "grid_auto_flow": null,
      "grid_auto_rows": null,
      "grid_column": null,
      "grid_gap": null,
      "grid_row": null,
      "grid_template_areas": null,
      "grid_template_columns": null,
      "grid_template_rows": null,
      "height": null,
      "justify_content": null,
      "justify_items": null,
      "left": null,
      "margin": null,
      "max_height": null,
      "max_width": null,
      "min_height": null,
      "min_width": null,
      "object_fit": null,
      "object_position": null,
      "order": null,
      "overflow": null,
      "overflow_x": null,
      "overflow_y": null,
      "padding": null,
      "right": null,
      "top": null,
      "visibility": null,
      "width": null
     }
    },
    "12f4d4afcf8746f0ab84600a1726f16a": {
     "model_module": "@jupyter-widgets/base",
     "model_module_version": "1.2.0",
     "model_name": "LayoutModel",
     "state": {
      "_model_module": "@jupyter-widgets/base",
      "_model_module_version": "1.2.0",
      "_model_name": "LayoutModel",
      "_view_count": null,
      "_view_module": "@jupyter-widgets/base",
      "_view_module_version": "1.2.0",
      "_view_name": "LayoutView",
      "align_content": null,
      "align_items": null,
      "align_self": null,
      "border": null,
      "bottom": null,
      "display": null,
      "flex": null,
      "flex_flow": null,
      "grid_area": null,
      "grid_auto_columns": null,
      "grid_auto_flow": null,
      "grid_auto_rows": null,
      "grid_column": null,
      "grid_gap": null,
      "grid_row": null,
      "grid_template_areas": null,
      "grid_template_columns": null,
      "grid_template_rows": null,
      "height": null,
      "justify_content": null,
      "justify_items": null,
      "left": null,
      "margin": null,
      "max_height": null,
      "max_width": null,
      "min_height": null,
      "min_width": null,
      "object_fit": null,
      "object_position": null,
      "order": null,
      "overflow": null,
      "overflow_x": null,
      "overflow_y": null,
      "padding": null,
      "right": null,
      "top": null,
      "visibility": null,
      "width": null
     }
    },
    "12fcfb5ffc58488ba8d356a7c4a775e4": {
     "model_module": "@jupyter-widgets/base",
     "model_module_version": "1.2.0",
     "model_name": "LayoutModel",
     "state": {
      "_model_module": "@jupyter-widgets/base",
      "_model_module_version": "1.2.0",
      "_model_name": "LayoutModel",
      "_view_count": null,
      "_view_module": "@jupyter-widgets/base",
      "_view_module_version": "1.2.0",
      "_view_name": "LayoutView",
      "align_content": null,
      "align_items": null,
      "align_self": null,
      "border": null,
      "bottom": null,
      "display": null,
      "flex": null,
      "flex_flow": null,
      "grid_area": null,
      "grid_auto_columns": null,
      "grid_auto_flow": null,
      "grid_auto_rows": null,
      "grid_column": null,
      "grid_gap": null,
      "grid_row": null,
      "grid_template_areas": null,
      "grid_template_columns": null,
      "grid_template_rows": null,
      "height": null,
      "justify_content": null,
      "justify_items": null,
      "left": null,
      "margin": null,
      "max_height": null,
      "max_width": null,
      "min_height": null,
      "min_width": null,
      "object_fit": null,
      "object_position": null,
      "order": null,
      "overflow": null,
      "overflow_x": null,
      "overflow_y": null,
      "padding": null,
      "right": null,
      "top": null,
      "visibility": null,
      "width": null
     }
    },
    "194b723b0bd7411cb218db462bdfb314": {
     "model_module": "@jupyter-widgets/controls",
     "model_module_version": "1.5.0",
     "model_name": "IntSliderModel",
     "state": {
      "_dom_classes": [],
      "_model_module": "@jupyter-widgets/controls",
      "_model_module_version": "1.5.0",
      "_model_name": "IntSliderModel",
      "_view_count": null,
      "_view_module": "@jupyter-widgets/controls",
      "_view_module_version": "1.5.0",
      "_view_name": "IntSliderView",
      "continuous_update": true,
      "description": "idx",
      "description_tooltip": null,
      "disabled": false,
      "layout": "IPY_MODEL_4c3a87b5fc3641e486ce55d6f9a776d9",
      "max": 3,
      "min": 0,
      "orientation": "horizontal",
      "readout": true,
      "readout_format": "d",
      "step": 1,
      "style": "IPY_MODEL_502f69fcd4604914b48e9a5563e2c6dc",
      "value": 1
     }
    },
    "1b3a7bb79674404296cc90beca617a99": {
     "model_module": "@jupyter-widgets/controls",
     "model_module_version": "1.5.0",
     "model_name": "VBoxModel",
     "state": {
      "_dom_classes": [
       "widget-interact"
      ],
      "_model_module": "@jupyter-widgets/controls",
      "_model_module_version": "1.5.0",
      "_model_name": "VBoxModel",
      "_view_count": null,
      "_view_module": "@jupyter-widgets/controls",
      "_view_module_version": "1.5.0",
      "_view_name": "VBoxView",
      "box_style": "",
      "children": [
       "IPY_MODEL_08d98068eaa84591a986efedb0bdd715",
       "IPY_MODEL_05689cc0277e4076be7a22ea5a9dc8b8"
      ],
      "layout": "IPY_MODEL_bc91d0010e664f928adee53b98fc9dcb"
     }
    },
    "1f9c882781034abcb5716a4c2d688870": {
     "model_module": "@jupyter-widgets/controls",
     "model_module_version": "1.5.0",
     "model_name": "IntSliderModel",
     "state": {
      "_dom_classes": [],
      "_model_module": "@jupyter-widgets/controls",
      "_model_module_version": "1.5.0",
      "_model_name": "IntSliderModel",
      "_view_count": null,
      "_view_module": "@jupyter-widgets/controls",
      "_view_module_version": "1.5.0",
      "_view_name": "IntSliderView",
      "continuous_update": true,
      "description": "idx",
      "description_tooltip": null,
      "disabled": false,
      "layout": "IPY_MODEL_12f4d4afcf8746f0ab84600a1726f16a",
      "max": 4,
      "min": 0,
      "orientation": "horizontal",
      "readout": true,
      "readout_format": "d",
      "step": 1,
      "style": "IPY_MODEL_4ae2d30e6b2d4ea394c2ec60296b65c3",
      "value": 4
     }
    },
    "2560b273082e4cbabec43df50365dfc9": {
     "model_module": "@jupyter-widgets/controls",
     "model_module_version": "1.5.0",
     "model_name": "VBoxModel",
     "state": {
      "_dom_classes": [
       "widget-interact"
      ],
      "_model_module": "@jupyter-widgets/controls",
      "_model_module_version": "1.5.0",
      "_model_name": "VBoxModel",
      "_view_count": null,
      "_view_module": "@jupyter-widgets/controls",
      "_view_module_version": "1.5.0",
      "_view_name": "VBoxView",
      "box_style": "",
      "children": [
       "IPY_MODEL_6fbd7057854541079918e209d330a0ff",
       "IPY_MODEL_53f01c4911ae47818d48d8ea3e11b7a5"
      ],
      "layout": "IPY_MODEL_0a1a28763ae54cfcbdf299b2514f4556"
     }
    },
    "25c7d4db5ff94b179578465cb221a367": {
     "model_module": "@jupyter-widgets/base",
     "model_module_version": "1.2.0",
     "model_name": "LayoutModel",
     "state": {
      "_model_module": "@jupyter-widgets/base",
      "_model_module_version": "1.2.0",
      "_model_name": "LayoutModel",
      "_view_count": null,
      "_view_module": "@jupyter-widgets/base",
      "_view_module_version": "1.2.0",
      "_view_name": "LayoutView",
      "align_content": null,
      "align_items": null,
      "align_self": null,
      "border": null,
      "bottom": null,
      "display": null,
      "flex": null,
      "flex_flow": null,
      "grid_area": null,
      "grid_auto_columns": null,
      "grid_auto_flow": null,
      "grid_auto_rows": null,
      "grid_column": null,
      "grid_gap": null,
      "grid_row": null,
      "grid_template_areas": null,
      "grid_template_columns": null,
      "grid_template_rows": null,
      "height": null,
      "justify_content": null,
      "justify_items": null,
      "left": null,
      "margin": null,
      "max_height": null,
      "max_width": null,
      "min_height": null,
      "min_width": null,
      "object_fit": null,
      "object_position": null,
      "order": null,
      "overflow": null,
      "overflow_x": null,
      "overflow_y": null,
      "padding": null,
      "right": null,
      "top": null,
      "visibility": null,
      "width": null
     }
    },
    "2aebeadc72384afd94b5e6ca99b21fff": {
     "model_module": "@jupyter-widgets/controls",
     "model_module_version": "1.5.0",
     "model_name": "VBoxModel",
     "state": {
      "_dom_classes": [
       "widget-interact"
      ],
      "_model_module": "@jupyter-widgets/controls",
      "_model_module_version": "1.5.0",
      "_model_name": "VBoxModel",
      "_view_count": null,
      "_view_module": "@jupyter-widgets/controls",
      "_view_module_version": "1.5.0",
      "_view_name": "VBoxView",
      "box_style": "",
      "children": [
       "IPY_MODEL_194b723b0bd7411cb218db462bdfb314",
       "IPY_MODEL_e3c386e8179b4bccac401b09f533c434"
      ],
      "layout": "IPY_MODEL_8cf82d54ac0046a5966f2f5f9c19bc95"
     }
    },
    "33f2b35456c54c818698b4b7302550a6": {
     "model_module": "@jupyter-widgets/output",
     "model_module_version": "1.0.0",
     "model_name": "OutputModel",
     "state": {
      "_dom_classes": [],
      "_model_module": "@jupyter-widgets/output",
      "_model_module_version": "1.0.0",
      "_model_name": "OutputModel",
      "_view_count": null,
      "_view_module": "@jupyter-widgets/output",
      "_view_module_version": "1.0.0",
      "_view_name": "OutputView",
      "layout": "IPY_MODEL_70ae564aa18d4a0f908dae43b80dfea7",
      "msg_id": "",
      "outputs": [
       {
        "data": {
         "image/png": "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\n",
         "text/plain": "<IPython.core.display.Image object>"
        },
        "metadata": {},
        "output_type": "display_data"
       }
      ]
     }
    },
    "384a936e7d9f43a8987dca3a7996becc": {
     "model_module": "@jupyter-widgets/controls",
     "model_module_version": "1.5.0",
     "model_name": "IntSliderModel",
     "state": {
      "_dom_classes": [],
      "_model_module": "@jupyter-widgets/controls",
      "_model_module_version": "1.5.0",
      "_model_name": "IntSliderModel",
      "_view_count": null,
      "_view_module": "@jupyter-widgets/controls",
      "_view_module_version": "1.5.0",
      "_view_name": "IntSliderView",
      "continuous_update": true,
      "description": "idx",
      "description_tooltip": null,
      "disabled": false,
      "layout": "IPY_MODEL_25c7d4db5ff94b179578465cb221a367",
      "max": 11,
      "min": 0,
      "orientation": "horizontal",
      "readout": true,
      "readout_format": "d",
      "step": 1,
      "style": "IPY_MODEL_ae338f90480c402ebbdd2b8478ac03d5",
      "value": 11
     }
    },
    "4ae2d30e6b2d4ea394c2ec60296b65c3": {
     "model_module": "@jupyter-widgets/controls",
     "model_module_version": "1.5.0",
     "model_name": "SliderStyleModel",
     "state": {
      "_model_module": "@jupyter-widgets/controls",
      "_model_module_version": "1.5.0",
      "_model_name": "SliderStyleModel",
      "_view_count": null,
      "_view_module": "@jupyter-widgets/base",
      "_view_module_version": "1.2.0",
      "_view_name": "StyleView",
      "description_width": "",
      "handle_color": null
     }
    },
    "4c3a87b5fc3641e486ce55d6f9a776d9": {
     "model_module": "@jupyter-widgets/base",
     "model_module_version": "1.2.0",
     "model_name": "LayoutModel",
     "state": {
      "_model_module": "@jupyter-widgets/base",
      "_model_module_version": "1.2.0",
      "_model_name": "LayoutModel",
      "_view_count": null,
      "_view_module": "@jupyter-widgets/base",
      "_view_module_version": "1.2.0",
      "_view_name": "LayoutView",
      "align_content": null,
      "align_items": null,
      "align_self": null,
      "border": null,
      "bottom": null,
      "display": null,
      "flex": null,
      "flex_flow": null,
      "grid_area": null,
      "grid_auto_columns": null,
      "grid_auto_flow": null,
      "grid_auto_rows": null,
      "grid_column": null,
      "grid_gap": null,
      "grid_row": null,
      "grid_template_areas": null,
      "grid_template_columns": null,
      "grid_template_rows": null,
      "height": null,
      "justify_content": null,
      "justify_items": null,
      "left": null,
      "margin": null,
      "max_height": null,
      "max_width": null,
      "min_height": null,
      "min_width": null,
      "object_fit": null,
      "object_position": null,
      "order": null,
      "overflow": null,
      "overflow_x": null,
      "overflow_y": null,
      "padding": null,
      "right": null,
      "top": null,
      "visibility": null,
      "width": null
     }
    },
    "4d00fdcf7b584318a821b51e294b74b6": {
     "model_module": "@jupyter-widgets/base",
     "model_module_version": "1.2.0",
     "model_name": "LayoutModel",
     "state": {
      "_model_module": "@jupyter-widgets/base",
      "_model_module_version": "1.2.0",
      "_model_name": "LayoutModel",
      "_view_count": null,
      "_view_module": "@jupyter-widgets/base",
      "_view_module_version": "1.2.0",
      "_view_name": "LayoutView",
      "align_content": null,
      "align_items": null,
      "align_self": null,
      "border": null,
      "bottom": null,
      "display": null,
      "flex": null,
      "flex_flow": null,
      "grid_area": null,
      "grid_auto_columns": null,
      "grid_auto_flow": null,
      "grid_auto_rows": null,
      "grid_column": null,
      "grid_gap": null,
      "grid_row": null,
      "grid_template_areas": null,
      "grid_template_columns": null,
      "grid_template_rows": null,
      "height": null,
      "justify_content": null,
      "justify_items": null,
      "left": null,
      "margin": null,
      "max_height": null,
      "max_width": null,
      "min_height": null,
      "min_width": null,
      "object_fit": null,
      "object_position": null,
      "order": null,
      "overflow": null,
      "overflow_x": null,
      "overflow_y": null,
      "padding": null,
      "right": null,
      "top": null,
      "visibility": null,
      "width": null
     }
    },
    "502f69fcd4604914b48e9a5563e2c6dc": {
     "model_module": "@jupyter-widgets/controls",
     "model_module_version": "1.5.0",
     "model_name": "SliderStyleModel",
     "state": {
      "_model_module": "@jupyter-widgets/controls",
      "_model_module_version": "1.5.0",
      "_model_name": "SliderStyleModel",
      "_view_count": null,
      "_view_module": "@jupyter-widgets/base",
      "_view_module_version": "1.2.0",
      "_view_name": "StyleView",
      "description_width": "",
      "handle_color": null
     }
    },
    "503143c2d50f4932965754332b1f8118": {
     "model_module": "@jupyter-widgets/base",
     "model_module_version": "1.2.0",
     "model_name": "LayoutModel",
     "state": {
      "_model_module": "@jupyter-widgets/base",
      "_model_module_version": "1.2.0",
      "_model_name": "LayoutModel",
      "_view_count": null,
      "_view_module": "@jupyter-widgets/base",
      "_view_module_version": "1.2.0",
      "_view_name": "LayoutView",
      "align_content": null,
      "align_items": null,
      "align_self": null,
      "border": null,
      "bottom": null,
      "display": null,
      "flex": null,
      "flex_flow": null,
      "grid_area": null,
      "grid_auto_columns": null,
      "grid_auto_flow": null,
      "grid_auto_rows": null,
      "grid_column": null,
      "grid_gap": null,
      "grid_row": null,
      "grid_template_areas": null,
      "grid_template_columns": null,
      "grid_template_rows": null,
      "height": null,
      "justify_content": null,
      "justify_items": null,
      "left": null,
      "margin": null,
      "max_height": null,
      "max_width": null,
      "min_height": null,
      "min_width": null,
      "object_fit": null,
      "object_position": null,
      "order": null,
      "overflow": null,
      "overflow_x": null,
      "overflow_y": null,
      "padding": null,
      "right": null,
      "top": null,
      "visibility": null,
      "width": null
     }
    },
    "53f01c4911ae47818d48d8ea3e11b7a5": {
     "model_module": "@jupyter-widgets/output",
     "model_module_version": "1.0.0",
     "model_name": "OutputModel",
     "state": {
      "_dom_classes": [],
      "_model_module": "@jupyter-widgets/output",
      "_model_module_version": "1.0.0",
      "_model_name": "OutputModel",
      "_view_count": null,
      "_view_module": "@jupyter-widgets/output",
      "_view_module_version": "1.0.0",
      "_view_name": "OutputView",
      "layout": "IPY_MODEL_617002d08ffe43648a9d364a861fbe8d",
      "msg_id": "",
      "outputs": [
       {
        "data": {
         "image/png": "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\n",
         "text/plain": "<IPython.core.display.Image object>"
        },
        "metadata": {},
        "output_type": "display_data"
       }
      ]
     }
    },
    "592c9ea6c59a459591224a88734f44cc": {
     "model_module": "@jupyter-widgets/base",
     "model_module_version": "1.2.0",
     "model_name": "LayoutModel",
     "state": {
      "_model_module": "@jupyter-widgets/base",
      "_model_module_version": "1.2.0",
      "_model_name": "LayoutModel",
      "_view_count": null,
      "_view_module": "@jupyter-widgets/base",
      "_view_module_version": "1.2.0",
      "_view_name": "LayoutView",
      "align_content": null,
      "align_items": null,
      "align_self": null,
      "border": null,
      "bottom": null,
      "display": null,
      "flex": null,
      "flex_flow": null,
      "grid_area": null,
      "grid_auto_columns": null,
      "grid_auto_flow": null,
      "grid_auto_rows": null,
      "grid_column": null,
      "grid_gap": null,
      "grid_row": null,
      "grid_template_areas": null,
      "grid_template_columns": null,
      "grid_template_rows": null,
      "height": null,
      "justify_content": null,
      "justify_items": null,
      "left": null,
      "margin": null,
      "max_height": null,
      "max_width": null,
      "min_height": null,
      "min_width": null,
      "object_fit": null,
      "object_position": null,
      "order": null,
      "overflow": null,
      "overflow_x": null,
      "overflow_y": null,
      "padding": null,
      "right": null,
      "top": null,
      "visibility": null,
      "width": null
     }
    },
    "617002d08ffe43648a9d364a861fbe8d": {
     "model_module": "@jupyter-widgets/base",
     "model_module_version": "1.2.0",
     "model_name": "LayoutModel",
     "state": {
      "_model_module": "@jupyter-widgets/base",
      "_model_module_version": "1.2.0",
      "_model_name": "LayoutModel",
      "_view_count": null,
      "_view_module": "@jupyter-widgets/base",
      "_view_module_version": "1.2.0",
      "_view_name": "LayoutView",
      "align_content": null,
      "align_items": null,
      "align_self": null,
      "border": null,
      "bottom": null,
      "display": null,
      "flex": null,
      "flex_flow": null,
      "grid_area": null,
      "grid_auto_columns": null,
      "grid_auto_flow": null,
      "grid_auto_rows": null,
      "grid_column": null,
      "grid_gap": null,
      "grid_row": null,
      "grid_template_areas": null,
      "grid_template_columns": null,
      "grid_template_rows": null,
      "height": null,
      "justify_content": null,
      "justify_items": null,
      "left": null,
      "margin": null,
      "max_height": null,
      "max_width": null,
      "min_height": null,
      "min_width": null,
      "object_fit": null,
      "object_position": null,
      "order": null,
      "overflow": null,
      "overflow_x": null,
      "overflow_y": null,
      "padding": null,
      "right": null,
      "top": null,
      "visibility": null,
      "width": null
     }
    },
    "6fbd7057854541079918e209d330a0ff": {
     "model_module": "@jupyter-widgets/controls",
     "model_module_version": "1.5.0",
     "model_name": "IntSliderModel",
     "state": {
      "_dom_classes": [],
      "_model_module": "@jupyter-widgets/controls",
      "_model_module_version": "1.5.0",
      "_model_name": "IntSliderModel",
      "_view_count": null,
      "_view_module": "@jupyter-widgets/controls",
      "_view_module_version": "1.5.0",
      "_view_name": "IntSliderView",
      "continuous_update": true,
      "description": "idx",
      "description_tooltip": null,
      "disabled": false,
      "layout": "IPY_MODEL_7806fb30c4984c99b08e39302136637e",
      "max": 9,
      "min": 0,
      "orientation": "horizontal",
      "readout": true,
      "readout_format": "d",
      "step": 1,
      "style": "IPY_MODEL_e57c7b83cfde44feb347cc2e57c9df3d",
      "value": 9
     }
    },
    "70ae564aa18d4a0f908dae43b80dfea7": {
     "model_module": "@jupyter-widgets/base",
     "model_module_version": "1.2.0",
     "model_name": "LayoutModel",
     "state": {
      "_model_module": "@jupyter-widgets/base",
      "_model_module_version": "1.2.0",
      "_model_name": "LayoutModel",
      "_view_count": null,
      "_view_module": "@jupyter-widgets/base",
      "_view_module_version": "1.2.0",
      "_view_name": "LayoutView",
      "align_content": null,
      "align_items": null,
      "align_self": null,
      "border": null,
      "bottom": null,
      "display": null,
      "flex": null,
      "flex_flow": null,
      "grid_area": null,
      "grid_auto_columns": null,
      "grid_auto_flow": null,
      "grid_auto_rows": null,
      "grid_column": null,
      "grid_gap": null,
      "grid_row": null,
      "grid_template_areas": null,
      "grid_template_columns": null,
      "grid_template_rows": null,
      "height": null,
      "justify_content": null,
      "justify_items": null,
      "left": null,
      "margin": null,
      "max_height": null,
      "max_width": null,
      "min_height": null,
      "min_width": null,
      "object_fit": null,
      "object_position": null,
      "order": null,
      "overflow": null,
      "overflow_x": null,
      "overflow_y": null,
      "padding": null,
      "right": null,
      "top": null,
      "visibility": null,
      "width": null
     }
    },
    "7806fb30c4984c99b08e39302136637e": {
     "model_module": "@jupyter-widgets/base",
     "model_module_version": "1.2.0",
     "model_name": "LayoutModel",
     "state": {
      "_model_module": "@jupyter-widgets/base",
      "_model_module_version": "1.2.0",
      "_model_name": "LayoutModel",
      "_view_count": null,
      "_view_module": "@jupyter-widgets/base",
      "_view_module_version": "1.2.0",
      "_view_name": "LayoutView",
      "align_content": null,
      "align_items": null,
      "align_self": null,
      "border": null,
      "bottom": null,
      "display": null,
      "flex": null,
      "flex_flow": null,
      "grid_area": null,
      "grid_auto_columns": null,
      "grid_auto_flow": null,
      "grid_auto_rows": null,
      "grid_column": null,
      "grid_gap": null,
      "grid_row": null,
      "grid_template_areas": null,
      "grid_template_columns": null,
      "grid_template_rows": null,
      "height": null,
      "justify_content": null,
      "justify_items": null,
      "left": null,
      "margin": null,
      "max_height": null,
      "max_width": null,
      "min_height": null,
      "min_width": null,
      "object_fit": null,
      "object_position": null,
      "order": null,
      "overflow": null,
      "overflow_x": null,
      "overflow_y": null,
      "padding": null,
      "right": null,
      "top": null,
      "visibility": null,
      "width": null
     }
    },
    "80b08d23c5ea427cb953cd58c50c9bd5": {
     "model_module": "@jupyter-widgets/base",
     "model_module_version": "1.2.0",
     "model_name": "LayoutModel",
     "state": {
      "_model_module": "@jupyter-widgets/base",
      "_model_module_version": "1.2.0",
      "_model_name": "LayoutModel",
      "_view_count": null,
      "_view_module": "@jupyter-widgets/base",
      "_view_module_version": "1.2.0",
      "_view_name": "LayoutView",
      "align_content": null,
      "align_items": null,
      "align_self": null,
      "border": null,
      "bottom": null,
      "display": null,
      "flex": null,
      "flex_flow": null,
      "grid_area": null,
      "grid_auto_columns": null,
      "grid_auto_flow": null,
      "grid_auto_rows": null,
      "grid_column": null,
      "grid_gap": null,
      "grid_row": null,
      "grid_template_areas": null,
      "grid_template_columns": null,
      "grid_template_rows": null,
      "height": null,
      "justify_content": null,
      "justify_items": null,
      "left": null,
      "margin": null,
      "max_height": null,
      "max_width": null,
      "min_height": null,
      "min_width": null,
      "object_fit": null,
      "object_position": null,
      "order": null,
      "overflow": null,
      "overflow_x": null,
      "overflow_y": null,
      "padding": null,
      "right": null,
      "top": null,
      "visibility": null,
      "width": null
     }
    },
    "82eef5f07e704423b97fd103563ce621": {
     "model_module": "@jupyter-widgets/output",
     "model_module_version": "1.0.0",
     "model_name": "OutputModel",
     "state": {
      "_dom_classes": [],
      "_model_module": "@jupyter-widgets/output",
      "_model_module_version": "1.0.0",
      "_model_name": "OutputModel",
      "_view_count": null,
      "_view_module": "@jupyter-widgets/output",
      "_view_module_version": "1.0.0",
      "_view_name": "OutputView",
      "layout": "IPY_MODEL_80b08d23c5ea427cb953cd58c50c9bd5",
      "msg_id": "",
      "outputs": [
       {
        "data": {
         "image/png": "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\n",
         "text/plain": "<IPython.core.display.Image object>"
        },
        "metadata": {},
        "output_type": "display_data"
       }
      ]
     }
    },
    "83c582232c5f494f8870c32a68ae2233": {
     "model_module": "@jupyter-widgets/controls",
     "model_module_version": "1.5.0",
     "model_name": "SliderStyleModel",
     "state": {
      "_model_module": "@jupyter-widgets/controls",
      "_model_module_version": "1.5.0",
      "_model_name": "SliderStyleModel",
      "_view_count": null,
      "_view_module": "@jupyter-widgets/base",
      "_view_module_version": "1.2.0",
      "_view_name": "StyleView",
      "description_width": "",
      "handle_color": null
     }
    },
    "8cf82d54ac0046a5966f2f5f9c19bc95": {
     "model_module": "@jupyter-widgets/base",
     "model_module_version": "1.2.0",
     "model_name": "LayoutModel",
     "state": {
      "_model_module": "@jupyter-widgets/base",
      "_model_module_version": "1.2.0",
      "_model_name": "LayoutModel",
      "_view_count": null,
      "_view_module": "@jupyter-widgets/base",
      "_view_module_version": "1.2.0",
      "_view_name": "LayoutView",
      "align_content": null,
      "align_items": null,
      "align_self": null,
      "border": null,
      "bottom": null,
      "display": null,
      "flex": null,
      "flex_flow": null,
      "grid_area": null,
      "grid_auto_columns": null,
      "grid_auto_flow": null,
      "grid_auto_rows": null,
      "grid_column": null,
      "grid_gap": null,
      "grid_row": null,
      "grid_template_areas": null,
      "grid_template_columns": null,
      "grid_template_rows": null,
      "height": null,
      "justify_content": null,
      "justify_items": null,
      "left": null,
      "margin": null,
      "max_height": null,
      "max_width": null,
      "min_height": null,
      "min_width": null,
      "object_fit": null,
      "object_position": null,
      "order": null,
      "overflow": null,
      "overflow_x": null,
      "overflow_y": null,
      "padding": null,
      "right": null,
      "top": null,
      "visibility": null,
      "width": null
     }
    },
    "8db7617a2f3849149ebddd4d1f6da761": {
     "model_module": "@jupyter-widgets/controls",
     "model_module_version": "1.5.0",
     "model_name": "SliderStyleModel",
     "state": {
      "_model_module": "@jupyter-widgets/controls",
      "_model_module_version": "1.5.0",
      "_model_name": "SliderStyleModel",
      "_view_count": null,
      "_view_module": "@jupyter-widgets/base",
      "_view_module_version": "1.2.0",
      "_view_name": "StyleView",
      "description_width": "",
      "handle_color": null
     }
    },
    "98e9c22f602c47e69d1a2412a1eeca09": {
     "model_module": "@jupyter-widgets/base",
     "model_module_version": "1.2.0",
     "model_name": "LayoutModel",
     "state": {
      "_model_module": "@jupyter-widgets/base",
      "_model_module_version": "1.2.0",
      "_model_name": "LayoutModel",
      "_view_count": null,
      "_view_module": "@jupyter-widgets/base",
      "_view_module_version": "1.2.0",
      "_view_name": "LayoutView",
      "align_content": null,
      "align_items": null,
      "align_self": null,
      "border": null,
      "bottom": null,
      "display": null,
      "flex": null,
      "flex_flow": null,
      "grid_area": null,
      "grid_auto_columns": null,
      "grid_auto_flow": null,
      "grid_auto_rows": null,
      "grid_column": null,
      "grid_gap": null,
      "grid_row": null,
      "grid_template_areas": null,
      "grid_template_columns": null,
      "grid_template_rows": null,
      "height": null,
      "justify_content": null,
      "justify_items": null,
      "left": null,
      "margin": null,
      "max_height": null,
      "max_width": null,
      "min_height": null,
      "min_width": null,
      "object_fit": null,
      "object_position": null,
      "order": null,
      "overflow": null,
      "overflow_x": null,
      "overflow_y": null,
      "padding": null,
      "right": null,
      "top": null,
      "visibility": null,
      "width": null
     }
    },
    "9b3761de007d4734b910a146e13ba106": {
     "model_module": "@jupyter-widgets/controls",
     "model_module_version": "1.5.0",
     "model_name": "VBoxModel",
     "state": {
      "_dom_classes": [
       "widget-interact"
      ],
      "_model_module": "@jupyter-widgets/controls",
      "_model_module_version": "1.5.0",
      "_model_name": "VBoxModel",
      "_view_count": null,
      "_view_module": "@jupyter-widgets/controls",
      "_view_module_version": "1.5.0",
      "_view_name": "VBoxView",
      "box_style": "",
      "children": [
       "IPY_MODEL_9f53065fca8544cf966533a2104caf44",
       "IPY_MODEL_82eef5f07e704423b97fd103563ce621"
      ],
      "layout": "IPY_MODEL_9cbd9e8f50a24d1aad2c9cc552dbfca2"
     }
    },
    "9cbd9e8f50a24d1aad2c9cc552dbfca2": {
     "model_module": "@jupyter-widgets/base",
     "model_module_version": "1.2.0",
     "model_name": "LayoutModel",
     "state": {
      "_model_module": "@jupyter-widgets/base",
      "_model_module_version": "1.2.0",
      "_model_name": "LayoutModel",
      "_view_count": null,
      "_view_module": "@jupyter-widgets/base",
      "_view_module_version": "1.2.0",
      "_view_name": "LayoutView",
      "align_content": null,
      "align_items": null,
      "align_self": null,
      "border": null,
      "bottom": null,
      "display": null,
      "flex": null,
      "flex_flow": null,
      "grid_area": null,
      "grid_auto_columns": null,
      "grid_auto_flow": null,
      "grid_auto_rows": null,
      "grid_column": null,
      "grid_gap": null,
      "grid_row": null,
      "grid_template_areas": null,
      "grid_template_columns": null,
      "grid_template_rows": null,
      "height": null,
      "justify_content": null,
      "justify_items": null,
      "left": null,
      "margin": null,
      "max_height": null,
      "max_width": null,
      "min_height": null,
      "min_width": null,
      "object_fit": null,
      "object_position": null,
      "order": null,
      "overflow": null,
      "overflow_x": null,
      "overflow_y": null,
      "padding": null,
      "right": null,
      "top": null,
      "visibility": null,
      "width": null
     }
    },
    "9f53065fca8544cf966533a2104caf44": {
     "model_module": "@jupyter-widgets/controls",
     "model_module_version": "1.5.0",
     "model_name": "IntSliderModel",
     "state": {
      "_dom_classes": [],
      "_model_module": "@jupyter-widgets/controls",
      "_model_module_version": "1.5.0",
      "_model_name": "IntSliderModel",
      "_view_count": null,
      "_view_module": "@jupyter-widgets/controls",
      "_view_module_version": "1.5.0",
      "_view_name": "IntSliderView",
      "continuous_update": true,
      "description": "idx",
      "description_tooltip": null,
      "disabled": false,
      "layout": "IPY_MODEL_98e9c22f602c47e69d1a2412a1eeca09",
      "max": 3,
      "min": 0,
      "orientation": "horizontal",
      "readout": true,
      "readout_format": "d",
      "step": 1,
      "style": "IPY_MODEL_83c582232c5f494f8870c32a68ae2233",
      "value": 3
     }
    },
    "ae338f90480c402ebbdd2b8478ac03d5": {
     "model_module": "@jupyter-widgets/controls",
     "model_module_version": "1.5.0",
     "model_name": "SliderStyleModel",
     "state": {
      "_model_module": "@jupyter-widgets/controls",
      "_model_module_version": "1.5.0",
      "_model_name": "SliderStyleModel",
      "_view_count": null,
      "_view_module": "@jupyter-widgets/base",
      "_view_module_version": "1.2.0",
      "_view_name": "StyleView",
      "description_width": "",
      "handle_color": null
     }
    },
    "b476415db8e3421c8a4bf3d7379480f8": {
     "model_module": "@jupyter-widgets/output",
     "model_module_version": "1.0.0",
     "model_name": "OutputModel",
     "state": {
      "_dom_classes": [],
      "_model_module": "@jupyter-widgets/output",
      "_model_module_version": "1.0.0",
      "_model_name": "OutputModel",
      "_view_count": null,
      "_view_module": "@jupyter-widgets/output",
      "_view_module_version": "1.0.0",
      "_view_name": "OutputView",
      "layout": "IPY_MODEL_4d00fdcf7b584318a821b51e294b74b6",
      "msg_id": "",
      "outputs": [
       {
        "data": {
         "image/png": "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\n",
         "text/plain": "<IPython.core.display.Image object>"
        },
        "metadata": {},
        "output_type": "display_data"
       }
      ]
     }
    },
    "bc91d0010e664f928adee53b98fc9dcb": {
     "model_module": "@jupyter-widgets/base",
     "model_module_version": "1.2.0",
     "model_name": "LayoutModel",
     "state": {
      "_model_module": "@jupyter-widgets/base",
      "_model_module_version": "1.2.0",
      "_model_name": "LayoutModel",
      "_view_count": null,
      "_view_module": "@jupyter-widgets/base",
      "_view_module_version": "1.2.0",
      "_view_name": "LayoutView",
      "align_content": null,
      "align_items": null,
      "align_self": null,
      "border": null,
      "bottom": null,
      "display": null,
      "flex": null,
      "flex_flow": null,
      "grid_area": null,
      "grid_auto_columns": null,
      "grid_auto_flow": null,
      "grid_auto_rows": null,
      "grid_column": null,
      "grid_gap": null,
      "grid_row": null,
      "grid_template_areas": null,
      "grid_template_columns": null,
      "grid_template_rows": null,
      "height": null,
      "justify_content": null,
      "justify_items": null,
      "left": null,
      "margin": null,
      "max_height": null,
      "max_width": null,
      "min_height": null,
      "min_width": null,
      "object_fit": null,
      "object_position": null,
      "order": null,
      "overflow": null,
      "overflow_x": null,
      "overflow_y": null,
      "padding": null,
      "right": null,
      "top": null,
      "visibility": null,
      "width": null
     }
    },
    "dca93efcf9e7461c942a036a8e0e3c3e": {
     "model_module": "@jupyter-widgets/base",
     "model_module_version": "1.2.0",
     "model_name": "LayoutModel",
     "state": {
      "_model_module": "@jupyter-widgets/base",
      "_model_module_version": "1.2.0",
      "_model_name": "LayoutModel",
      "_view_count": null,
      "_view_module": "@jupyter-widgets/base",
      "_view_module_version": "1.2.0",
      "_view_name": "LayoutView",
      "align_content": null,
      "align_items": null,
      "align_self": null,
      "border": null,
      "bottom": null,
      "display": null,
      "flex": null,
      "flex_flow": null,
      "grid_area": null,
      "grid_auto_columns": null,
      "grid_auto_flow": null,
      "grid_auto_rows": null,
      "grid_column": null,
      "grid_gap": null,
      "grid_row": null,
      "grid_template_areas": null,
      "grid_template_columns": null,
      "grid_template_rows": null,
      "height": null,
      "justify_content": null,
      "justify_items": null,
      "left": null,
      "margin": null,
      "max_height": null,
      "max_width": null,
      "min_height": null,
      "min_width": null,
      "object_fit": null,
      "object_position": null,
      "order": null,
      "overflow": null,
      "overflow_x": null,
      "overflow_y": null,
      "padding": null,
      "right": null,
      "top": null,
      "visibility": null,
      "width": null
     }
    },
    "e3c386e8179b4bccac401b09f533c434": {
     "model_module": "@jupyter-widgets/output",
     "model_module_version": "1.0.0",
     "model_name": "OutputModel",
     "state": {
      "_dom_classes": [],
      "_model_module": "@jupyter-widgets/output",
      "_model_module_version": "1.0.0",
      "_model_name": "OutputModel",
      "_view_count": null,
      "_view_module": "@jupyter-widgets/output",
      "_view_module_version": "1.0.0",
      "_view_name": "OutputView",
      "layout": "IPY_MODEL_503143c2d50f4932965754332b1f8118",
      "msg_id": "",
      "outputs": [
       {
        "data": {
         "image/png": "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\n",
         "text/plain": "<IPython.core.display.Image object>"
        },
        "metadata": {},
        "output_type": "display_data"
       }
      ]
     }
    },
    "e57c7b83cfde44feb347cc2e57c9df3d": {
     "model_module": "@jupyter-widgets/controls",
     "model_module_version": "1.5.0",
     "model_name": "SliderStyleModel",
     "state": {
      "_model_module": "@jupyter-widgets/controls",
      "_model_module_version": "1.5.0",
      "_model_name": "SliderStyleModel",
      "_view_count": null,
      "_view_module": "@jupyter-widgets/base",
      "_view_module_version": "1.2.0",
      "_view_name": "StyleView",
      "description_width": "",
      "handle_color": null
     }
    },
    "e9ec2741060943c9883dab9679cada92": {
     "model_module": "@jupyter-widgets/controls",
     "model_module_version": "1.5.0",
     "model_name": "VBoxModel",
     "state": {
      "_dom_classes": [
       "widget-interact"
      ],
      "_model_module": "@jupyter-widgets/controls",
      "_model_module_version": "1.5.0",
      "_model_name": "VBoxModel",
      "_view_count": null,
      "_view_module": "@jupyter-widgets/controls",
      "_view_module_version": "1.5.0",
      "_view_name": "VBoxView",
      "box_style": "",
      "children": [
       "IPY_MODEL_1f9c882781034abcb5716a4c2d688870",
       "IPY_MODEL_b476415db8e3421c8a4bf3d7379480f8"
      ],
      "layout": "IPY_MODEL_dca93efcf9e7461c942a036a8e0e3c3e"
     }
    },
    "ead91215292542cf8730064edd170e4e": {
     "model_module": "@jupyter-widgets/base",
     "model_module_version": "1.2.0",
     "model_name": "LayoutModel",
     "state": {
      "_model_module": "@jupyter-widgets/base",
      "_model_module_version": "1.2.0",
      "_model_name": "LayoutModel",
      "_view_count": null,
      "_view_module": "@jupyter-widgets/base",
      "_view_module_version": "1.2.0",
      "_view_name": "LayoutView",
      "align_content": null,
      "align_items": null,
      "align_self": null,
      "border": null,
      "bottom": null,
      "display": null,
      "flex": null,
      "flex_flow": null,
      "grid_area": null,
      "grid_auto_columns": null,
      "grid_auto_flow": null,
      "grid_auto_rows": null,
      "grid_column": null,
      "grid_gap": null,
      "grid_row": null,
      "grid_template_areas": null,
      "grid_template_columns": null,
      "grid_template_rows": null,
      "height": null,
      "justify_content": null,
      "justify_items": null,
      "left": null,
      "margin": null,
      "max_height": null,
      "max_width": null,
      "min_height": null,
      "min_width": null,
      "object_fit": null,
      "object_position": null,
      "order": null,
      "overflow": null,
      "overflow_x": null,
      "overflow_y": null,
      "padding": null,
      "right": null,
      "top": null,
      "visibility": null,
      "width": null
     }
    },
    "f3c5f9e4ee0149fab2c5552882da3941": {
     "model_module": "@jupyter-widgets/controls",
     "model_module_version": "1.5.0",
     "model_name": "VBoxModel",
     "state": {
      "_dom_classes": [
       "widget-interact"
      ],
      "_model_module": "@jupyter-widgets/controls",
      "_model_module_version": "1.5.0",
      "_model_name": "VBoxModel",
      "_view_count": null,
      "_view_module": "@jupyter-widgets/controls",
      "_view_module_version": "1.5.0",
      "_view_name": "VBoxView",
      "box_style": "",
      "children": [
       "IPY_MODEL_384a936e7d9f43a8987dca3a7996becc",
       "IPY_MODEL_33f2b35456c54c818698b4b7302550a6"
      ],
      "layout": "IPY_MODEL_592c9ea6c59a459591224a88734f44cc"
     }
    }
   }
  }
 },
 "nbformat": 4,
 "nbformat_minor": 4
}
