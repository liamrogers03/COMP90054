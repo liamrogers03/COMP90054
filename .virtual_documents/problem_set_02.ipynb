











!pip install pydotplus


import numpy as np
import pydotplus
from IPython.display import display, Image
from ipywidgets import interact
import heapq


# Class of the problem

class Problem():
  initial_state = None
  state_space = None
  goal_states = None
  actions = None
  transition_function = None
  costs = None

  def __init__(self, initial_state, state_space, goal_states, actions, transition_function, costs):
    self.initial_state = initial_state
    self.state_space = state_space
    self.goal_states = goal_states
    self.actions = actions
    self.transition_function = transition_function
    self.costs = costs

    self.current_state = self.initial_state

    return

class PriorityQueue:
    """
      Implements a priority queue data structure. Each inserted item
      has a priority associated with it and the client is usually interested
      in quick retrieval of the lowest-priority item in the queue. This
      data structure allows O(1) access to the lowest-priority item.
    """
    def  __init__(self):
        self.heap = []
        self.count = 0

    def push(self, item, priority):
        entry = (priority, self.count, item)
        heapq.heappush(self.heap, entry)
        self.count += 1

    def pop(self):
        (_, _, item) = heapq.heappop(self.heap)
        return item

    def isEmpty(self):
        return len(self.heap) == 0

    def update(self, item, priority):
        # If item already in priority queue with higher priority, update its priority and rebuild the heap.
        # If item already in priority queue with equal or lower priority, do nothing.
        # If item not in priority queue, do the same thing as self.push.
        for index, (p, c, i) in enumerate(self.heap):
            if i == item:
                if p <= priority:
                    break
                del self.heap[index]
                self.heap.append((priority, c, item))
                heapq.heapify(self.heap)
                break
        else:
            self.push(item, priority)

# Helper function to visualize the problem (i.e. draw state transition graph)
def generate_state_graph(problem,heuristics):
  state_graph={}
  state_graph['nodes'] = {k:{'label':'\"{}\n{}\"'.format(k,heuristics[k])} for k in sorted(list(problem.state_space))}
  state_graph['nodes'][problem.initial_state]['color'] = 'green'
  for goal in problem.goal_states:
      state_graph['nodes'][goal]['shape'] = 'doublecircle'
  state_graph['edge'] = {k:{'label':str(problem.costs[k])} for k in problem.costs.keys()}
  return state_graph

def render_graph(param):
  s = ''
  s += 'digraph G { \n'

  for node,tdict in param['nodes'].items():
    tstr = node + ' '
    if bool(tdict):
      tstr += '['
      for k,v in tdict.items():
        tstr += '{}={},'.format(k,v)
      tstr = tstr[:-1] + ']'
    tstr += ';\n'
    s+=tstr

  for edge,tdict in param['edge'].items():
    tstr = edge[0] + '->' + edge[1] + ' '
    if bool(tdict):
      tstr += '['
      for k,v in tdict.items():
        tstr += '{}={},'.format(k,v)
      tstr = tstr[:-1] + ']'
    tstr += ';\n'
    s+=tstr
  s += ' \n}'

  #print (s)
  graph = pydotplus.graph_from_dot_data(s)
  return graph.create_png()


# Visulize the search process (not required)
def visulize_heuristic_search_process(nodes,problem):
    progress = []

    for i,(state,fn,value,parent) in enumerate(nodes):
        param = {}
        param['nodes'] = {str(k):{'label':'\"n{}\n{},{},{},{}\"'.format(k,state,fn,cost,parent)} for k,(state,fn,cost,parent) in enumerate(nodes[:i+1])}

        # The newly generated node is red while all other nodes are green
        for k in param['nodes']:
            param['nodes'][k]['color'] = 'green'
        param['nodes'][str(i)]['color'] = 'red'

        # Black edges
        param['edge'] = {(str(parent), str(k)): {'label': str(problem.costs[(nodes[parent][0], state)])} for k, (state,fn, cost, parent) in enumerate(nodes[:i+1]) if not parent is None}
        for edge in param['edge']:
            param['edge'][edge]['color'] = 'black'

        progress.append(param)

    prog_imgs = [render_graph(param) for param in progress]
    def show_img(idx):
        return display(Image(prog_imgs[idx]))
    interact(show_img,idx=(0,len(prog_imgs)-1,1))












# Code to auto-generate state space model

states = set(['s{}'.format(i) for i in range(1,8)])
ini_st = 's1'
goal_sts = set(['s7'])

costs = {
    ('s1','s2'):2,
    ('s1','s3'):2,
    ('s1','s4'):1,
    ('s2','s5'):2,
    ('s3','s7'):10,
    ('s4','s6'):1,
    ('s5','s7'):3,
    ('s6','s7'):4,
}


actions = {'s{}'.format(i): set() for i in range(1,8)}
for k1,k2 in costs.keys():
  actions[k1].add((k1,k2))

tranf = {(k[0],k):k[1] for k in costs.keys()}

prob = Problem(initial_state=ini_st, state_space=states, goal_states=goal_sts, actions=actions, transition_function=tranf, costs=costs)

print ('initial_state={}'.format(prob.initial_state))
print ('state_space={}'.format(prob.state_space))
print ('goal_states={}'.format(prob.goal_states))
print ('actions={}'.format(prob.actions))
print ('transition_function={}'.format(prob.transition_function))
print ('costs={}'.format(prob.costs))






initial_state = 's1'
state_space = {'s3', 's5', 's1', 's2', 's4', 's7', 's6'}
goal_states = {'s7'}
actions = {'s1': {('s1', 's3'), ('s1', 's2'), ('s1', 's4')}, 's2': {('s2', 's5')}, 's3': {('s3', 's7')}, 's4': {('s4', 's6')}, 's5': {('s5', 's7')}, 's6': {('s6', 's7')}, 's7': set()}
transition_function = {('s1', ('s1', 's2')): 's2', ('s1', ('s1', 's3')): 's3', ('s1', ('s1', 's4')): 's4', ('s2', ('s2', 's5')): 's5', ('s3', ('s3', 's7')): 's7', ('s4', ('s4', 's6')): 's6', ('s5', ('s5', 's7')): 's7', ('s6', ('s6', 's7')): 's7'}
costs = {('s1', 's2'): 2, ('s1', 's3'): 2, ('s1', 's4'): 1, ('s2', 's5'): 2, ('s3', 's7'): 10, ('s4', 's6'): 1, ('s5', 's7'): 3, ('s6', 's7'): 4}

problem = Problem(initial_state, state_space, goal_states, actions, transition_function, costs)





heuristics_none = {'s1':' ','s2':' ','s3':' ','s4':' ','s5':' ','s6':' ','s7':' '}
heuristics1 = {'s1':'4','s2':'3','s3':'5','s4':'3','s5':'2','s6':'2','s7':'0'}
heuristics2 = {'s1':'6','s2':'5','s3':'10','s4':'5','s5':'3','s6':'4','s7':'0'}
heuristics3 = {'s1':'6','s2':'1','s3':'1','s4':'5','s5':'3','s6':'4','s7':'0'}

# You can play around with your customised heuristic function here:
heuristics_customised = {}



































#  Expansion node order
#  h2 as example
nodes = [ # (state, fn, accumulated cost, id of parent node)
            ('s1', 6, 0, None),
            ('s4', 6, 1, 0),
            ('s6', 6, 2, 1),
            ('s7', 6, 6, 2)
        ]





#  Expansion node order
#  h2 as example
nodes = [ # (state, fn, accumulated cost, id of parent node)
            ('s1', 6, 0, None),
            ('s2', 5, 2, 0),
            ('s5', 3, 4, 1),
            ('s7', 0, 7, 2)
        ]





#  Expansion node order
#  w=2 and h2 as example
nodes = [ # (state, fn, accumulated cost, id of parent node)
            ('s1', 12, 0, None),
            ('s4', 11, 1, 0),
            ('s6', 10, 2, 1),
            ('s7', 6, 6, 2)
        ]





visulize_heuristic_search_process(nodes,problem)





















































# Instead of returning the final solution, your function here should append each node when it gets expanded, and return the expanded list
def astar(problem, heuristic):
    expansion_order = []
    # Your code here:
    start_node = (problem.initial_state, int(heuristic[problem.initial_state]), 0, None)
    pq = PriorityQueue()
    pq.push(start_node,int(heuristic[problem.initial_state]))

    while not pq.isEmpty():
        current_node = pq.pop()
        expansion_order.append(current_node)
        state, fn, accu_cost, parent_node_id = current_node

        # Goal Check
        if state in problem.goal_states:
            return expansion_order

        # Add successor nodes into queue (no loop check; randomly tie-break)
        for action in problem.actions[state]:
            succ_state = problem.transition_function[(state, action)]
            cost = accu_cost + problem.costs[action]
            pq.push((succ_state, int(heuristic[succ_state])+cost ,cost, len(expansion_order)-1),int(heuristic[succ_state])+cost)

    return expansion_order

ns = astar(problem, heuristics2)


visulize_heuristic_search_process(ns,problem)





# Instead of returning the final solution, your function here should append each node when it gets expanded, and return the expanded list
def greedy(problem, heuristic):
    expansion_order = []
    # Your code here:
    start_node = (problem.initial_state, int(heuristic[problem.initial_state]), 0, None)
    pq = PriorityQueue()
    pq.push(start_node,int(heuristic[problem.initial_state]))

    while not pq.isEmpty():
        current_node = pq.pop()
        expansion_order.append(current_node)
        state, fn, accu_cost, parent_node_id = current_node

        # Goal Check
        if state in problem.goal_states:
            return expansion_order

        # Add successor nodes into queue (no loop check; randomly tie-break)
        for action in problem.actions[state]:
            succ_state = problem.transition_function[(state, action)]
            cost = accu_cost + problem.costs[action]
            pq.push((succ_state, int(heuristic[succ_state]) ,cost, len(expansion_order)-1),int(heuristic[succ_state]))

    return expansion_order

ns = greedy(problem, heuristics2)


visulize_heuristic_search_process(ns,problem)





# Instead of returning the final solution, your function here should append each node when it gets expanded, and return the expanded list
def wastar(problem, heuristic,w):
    expansion_order = []
    # Your code here:
    start_node = (problem.initial_state, int(heuristic[problem.initial_state])*w+0, 0, None)
    pq = PriorityQueue()
    pq.push(start_node,int(heuristic[problem.initial_state])*w+0)

    while not pq.isEmpty():
        current_node = pq.pop()
        expansion_order.append(current_node)
        state, fn, accu_cost, parent_node_id = current_node

        # Goal Check
        if state in problem.goal_states:
            return expansion_order

        # Add successor nodes into queue (no loop check; randomly tie-break)
        for action in problem.actions[state]:
            succ_state = problem.transition_function[(state, action)]
            cost = accu_cost + problem.costs[action]
            pq.push((succ_state, int(heuristic[succ_state])*w+cost ,cost, len(expansion_order)-1),int(heuristic[succ_state])*w+cost)

    return expansion_order

ns = wastar(problem, heuristics2,2)


visulize_heuristic_search_process(ns,problem)
